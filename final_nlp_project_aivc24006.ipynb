{
  "cells": [
    {
      "cell_type": "markdown",
      "metadata": {
        "id": "view-in-github",
        "colab_type": "text"
      },
      "source": [
        "<a href=\"https://colab.research.google.com/github/XPONOKPATWP/nlp-project/blob/main/final_nlp_project_aivc24006.ipynb\" target=\"_parent\"><img src=\"https://colab.research.google.com/assets/colab-badge.svg\" alt=\"Open In Colab\"/></a>"
      ]
    },
    {
      "cell_type": "markdown",
      "source": [
        "# Cell 0: Installing missing module emoji"
      ],
      "metadata": {
        "id": "E9qU12ER9Olt"
      }
    },
    {
      "cell_type": "code",
      "source": [
        "pip install emoji"
      ],
      "metadata": {
        "id": "yZQLuqO98_K3"
      },
      "execution_count": null,
      "outputs": []
    },
    {
      "cell_type": "markdown",
      "source": [
        "# Cell 1: Imports and NLTK Downloads"
      ],
      "metadata": {
        "id": "SB2sVbWCMjL0"
      }
    },
    {
      "cell_type": "markdown",
      "source": [
        "\n",
        "εισάγετε μια ποικιλία βιβλιοθηκών της Python που χρησιμοποιούνται ευρέως στην ανάλυση δεδομένων, την επεξεργασία φυσικής γλώσσας (NLP), την μηχανική μάθηση και την βαθιά μάθηση. Συγκεκριμένα, περιλαμβάνει βιβλιοθήκες για:\n",
        "\n",
        "* Χειρισμό και ανάλυση δεδομένων: pandas\n",
        "* Καθαρισμό και προεπεξεργασία κειμένου: re, nltk, emoji\n",
        "* Εξαγωγή χαρακτηριστικών και δημιουργία μοντέλων μηχανικής μάθησης: scikit-learn (με αλγορίθμους όπως Logistic Regression, LinearSVC, MultinomialNB και μετρικές αξιολόγησης)\n",
        "* Επεξεργασία κειμένου με βαθιά μάθηση: TensorFlow και Keras (με εργαλεία όπως Tokenizer, pad_sequences και διάφορα νευρωνικά δίκτυα, π.χ. LSTM, Conv1D)\n",
        "* Οπτικοποίηση: matplotlib\n",
        "* Επιπλέον, γίνεται λήψη απαραίτητων πόρων από το NLTK (π.χ. λίστες stopwords, wordnet)."
      ],
      "metadata": {
        "id": "hsnUcaY8co8l"
      }
    },
    {
      "cell_type": "code",
      "source": [
        "# Import libraries for data manipulation and analysis\n",
        "import pandas as pd\n",
        "\n",
        "# Import libraries for text cleaning and preprocessing\n",
        "import re\n",
        "import nltk\n",
        "import emoji\n",
        "\n",
        "# Import specific functionalities from nltk\n",
        "from nltk.tokenize import word_tokenize  # Tokenize text into words\n",
        "from nltk.corpus import stopwords  # Load stopwords for removal\n",
        "from nltk.stem import WordNetLemmatizer  # Lemmatize words for better representation\n",
        "\n",
        "# Import libraries for feature extraction and model building (scikit-learn)\n",
        "from sklearn.feature_extraction.text import TfidfVectorizer  # TF-IDF vectorization\n",
        "from sklearn.model_selection import train_test_split  # Split data into training and testing sets\n",
        "from sklearn.linear_model import LogisticRegression  # Logistic Regression classifier\n",
        "from sklearn.svm import LinearSVC  # Linear Support Vector Machine classifier\n",
        "from sklearn.naive_bayes import MultinomialNB  # Multinomial Naive Bayes classifier\n",
        "from sklearn.metrics import (  # Metrics for model evaluation\n",
        "    classification_report,\n",
        "    accuracy_score,\n",
        "    precision_score,\n",
        "    recall_score,\n",
        "    f1_score,\n",
        "    confusion_matrix,\n",
        ")\n",
        "\n",
        "# Import libraries for deep learning text processing (TensorFlow & Keras)\n",
        "import tensorflow as tf\n",
        "from tensorflow.keras.preprocessing.text import Tokenizer  # Tokenize text into integer sequences\n",
        "from tensorflow.keras.preprocessing.sequence import pad_sequences  # Pad sequences to equal length\n",
        "from tensorflow.keras.layers import (  # Layers for building the neural network\n",
        "    Embedding,  # Embed tokens as dense vectors\n",
        "    LSTM,  # Long Short-Term Memory layer for capturing long-range dependencies\n",
        "    Dense,  # Densely connected layers for classification\n",
        "    Dropout,  # Dropout layer for regularization to prevent overfitting\n",
        "    Input,  # Input layer to define the model input\n",
        "    GlobalAveragePooling1D,  # Global Average Pooling for summarizing sequence features\n",
        "    Conv1D,  # Convolutional 1D layer for feature extraction\n",
        "    add,  # Add operation for combining features\n",
        ")\n",
        "from tensorflow.keras.models import Model  # Build the deep learning model\n",
        "from tensorflow.keras.optimizers import Adam  # Adam optimizer for training\n",
        "from tensorflow.keras.callbacks import EarlyStopping  # Early stopping to prevent overfitting\n",
        "\n",
        "# Import Matplotlib for plotting\n",
        "import matplotlib.pyplot as plt\n",
        "\n",
        "# Download necessary resources from NLTK\n",
        "nltk.download('stopwords')\n",
        "nltk.download('wordnet')\n",
        "nltk.download('omw-1.4')\n",
        "nltk.download('punkt')"
      ],
      "metadata": {
        "colab": {
          "base_uri": "https://localhost:8080/"
        },
        "id": "9YM-E8cAvBAy",
        "outputId": "178c6f54-e456-4259-82af-73b1f51e58b9"
      },
      "execution_count": null,
      "outputs": [
        {
          "output_type": "stream",
          "name": "stderr",
          "text": [
            "[nltk_data] Downloading package stopwords to /root/nltk_data...\n",
            "[nltk_data]   Package stopwords is already up-to-date!\n",
            "[nltk_data] Downloading package wordnet to /root/nltk_data...\n",
            "[nltk_data]   Package wordnet is already up-to-date!\n",
            "[nltk_data] Downloading package omw-1.4 to /root/nltk_data...\n",
            "[nltk_data]   Package omw-1.4 is already up-to-date!\n",
            "[nltk_data] Downloading package punkt to /root/nltk_data...\n",
            "[nltk_data]   Package punkt is already up-to-date!\n"
          ]
        },
        {
          "output_type": "execute_result",
          "data": {
            "text/plain": [
              "True"
            ]
          },
          "metadata": {},
          "execution_count": 32
        }
      ]
    },
    {
      "cell_type": "markdown",
      "source": [
        "Αυτές οι γραμμές δείχνουν ότι το NLTK έλεγξε και βρήκε τα απαραίτητα πακέτα (stopwords, wordnet, omw-1.4, punkt) ήδη εγκατεστημένα και ενημερωμένα. Το \"True\" επιβεβαιώνει την επιτυχή ολοκλήρωση της εντολής. Με λίγα λόγια, το NLTK είναι έτοιμο για χρήση."
      ],
      "metadata": {
        "id": "vcEbzzS3fBNi"
      }
    },
    {
      "cell_type": "markdown",
      "source": [
        "# Cell 2: Data Loading"
      ],
      "metadata": {
        "id": "VyKdTq4JM2Tq"
      }
    },
    {
      "cell_type": "markdown",
      "source": [
        "Ο κώδικας προσπαθεί να διαβάσει το αρχείο \"IMDB Dataset.csv\" με την pandas. Αν το αρχείο δεν βρεθεί, εμφανίζει μήνυμα σφάλματος και τερματίζει το πρόγραμμα."
      ],
      "metadata": {
        "id": "znEJtCvqfXpi"
      }
    },
    {
      "cell_type": "code",
      "source": [
        "try:\n",
        "    # Attempt to read the CSV file into a Pandas DataFrame\n",
        "    df = pd.read_csv(\"IMDB Dataset.csv\")\n",
        "except FileNotFoundError:\n",
        "    # Handle the case where the file is not found\n",
        "    print(\"Error: 'IMDB Dataset.csv' not found. Please ensure the file is in the correct directory or provide the correct path.\")\n",
        "    # Exit the program with a non-zero exit code to indicate an error\n",
        "    exit()"
      ],
      "metadata": {
        "id": "YYEv3l5lvivF"
      },
      "execution_count": null,
      "outputs": []
    },
    {
      "cell_type": "markdown",
      "source": [
        "Εφόσον δεν προέκυψε σφάλμα, η ανάγνωση του αρχείου \"IMDB Dataset.csv\" ήταν επιτυχής και τα δεδομένα είναι έτοιμα για χρήση στη μεταβλητή df."
      ],
      "metadata": {
        "id": "0dZLXQiJf-uW"
      }
    },
    {
      "cell_type": "markdown",
      "source": [
        "# Cell 3: Text Preprocessing"
      ],
      "metadata": {
        "id": "ApMor3qSM_xm"
      }
    },
    {
      "cell_type": "markdown",
      "source": [
        "Ο κώδικας αυτός ορίζει μια συνάρτηση preprocess_text για καθαρισμό κειμένου (κριτικές ταινιών) και την εφαρμόζει σε ένα DataFrame. Επίσης, μετατρέπει τις ετικέτες συναισθήματος σε αριθμητικές τιμές.\n",
        "\n",
        "* Δημιουργεί λεξικά για αντικατάσταση αργκό (movie_jargon) και επέκταση συντομογραφιών (contractions).\n",
        "* Η preprocess_text αφαιρεί HTML, URLs, μη-αλφαριθμητικούς χαρακτήρες, μετατρέπει σε πεζά, αντικαθιστά emojis, επεκτείνει συντομογραφίες, αντικαθιστά αργκό, αφαιρεί stopwords, διαχειρίζεται την άρνηση (προσθέτοντας \"NOT_\"), κάνει λημματοποίηση.\n",
        "* Εφαρμόζει την preprocess_text στη στήλη 'review' του DataFrame df.\n",
        "* Μετατρέπει τις ετικέτες 'positive'/'negative' σε 1/0 στη μεταβλητή y."
      ],
      "metadata": {
        "id": "pOKh9HqtgpIf"
      }
    },
    {
      "cell_type": "code",
      "source": [
        "# Define a dictionary for movie jargon replacement\n",
        "movie_jargon = {\n",
        "    \"oscar-worthy\": \"excellent\",\n",
        "    \"box office hit\": \"successful movie\",\n",
        "    \"cliffhanger\": \"abrupt ending\",\n",
        "    \"prequel\": \"previous movie\",\n",
        "    \"sequel\": \"following movie\",\n",
        "    \"remake\": \"new version\",\n",
        "    \"indie film\": \"independent film\",\n",
        "    \"cgi\": \"computer generated imagery\",\n",
        "    \"vfx\": \"visual effects\",\n",
        "    \"rotfl\": \"rolling on the floor laughing\",\n",
        "    \"lol\": \"laughing out loud\",\n",
        "    \"imo\": \"in my opinion\",\n",
        "    \"tbh\": \"to be honest\",\n",
        "    \"f/x\": \"effects\",\n",
        "    \"sfx\": \"sound effects\",\n",
        "    \"blockbuster\": \"very successful movie\",\n",
        "}\n",
        "\n",
        "# Define a dictionary for contraction expansion\n",
        "contractions = {\n",
        "    \"can't\": \"cannot\",\n",
        "    \"won't\": \"will not\",\n",
        "    \"it's\": \"it is\",\n",
        "    \"don't\": \"do not\",\n",
        "    \"didn't\": \"did not\",\n",
        "    \"i'm\": \"i am\",\n",
        "    \"you're\": \"you are\",\n",
        "    \"he's\": \"he is\",\n",
        "    \"she's\": \"she is\",\n",
        "    \"we're\": \"we are\",\n",
        "    \"they're\": \"they are\",\n",
        "    \"that's\": \"that is\",\n",
        "    \"there's\": \"there is\",\n",
        "    \"let's\": \"let us\"\n",
        "}\n",
        "\n",
        "# Define the text preprocessing function\n",
        "def preprocess_text(text):\n",
        "    # Remove HTML tags\n",
        "    text = re.sub(r'<[^>]+>', '', text)\n",
        "    # Remove URLs\n",
        "    text = re.sub(r'http\\S+|www\\S+|https\\S+', '', text, flags=re.MULTILINE)\n",
        "    # Remove non-alphanumeric characters (except spaces)\n",
        "    text = re.sub(r'[^a-zA-Z\\s]', '', text)\n",
        "    # Convert text to lowercase\n",
        "    text = text.lower()\n",
        "    # Replace emojis with spaces\n",
        "    text = emoji.replace_emoji(text, replace=\" \")\n",
        "    # Split the text into words\n",
        "    words = text.split()\n",
        "\n",
        "    # Expand contractions\n",
        "    words = [contractions.get(word, word) for word in words]\n",
        "    # Replace movie jargon\n",
        "    words = [movie_jargon.get(word, word) for word in words]\n",
        "\n",
        "    # Remove stop words\n",
        "    stop_words = set(stopwords.words('english'))\n",
        "    words = [word for word in words if word not in stop_words]\n",
        "\n",
        "    # Handle negation by adding \"NOT_\" prefix to words following negation words\n",
        "    negation_words = {'no', 'not', 'never', 'none', 'nobody', 'nowhere', 'neither', 'nor'}\n",
        "    negated = False\n",
        "    negated_words = []\n",
        "    for i, word in enumerate(words):\n",
        "        if word in negation_words:\n",
        "            negated = True\n",
        "            continue  # Skip the negation word itself\n",
        "        if negated:\n",
        "            negated_words.append(\"NOT_\" + word)  # Append NOT_ to the word\n",
        "            negated = False  # Reset the negated flag\n",
        "        else:\n",
        "            negated_words.append(word)\n",
        "    words = negated_words\n",
        "\n",
        "    # Lemmatize words\n",
        "    lemmatizer = WordNetLemmatizer()\n",
        "    words = [lemmatizer.lemmatize(word) for word in words]\n",
        "    # Join the processed words back into a string\n",
        "    return \" \".join(words)\n",
        "\n",
        "# Apply the preprocessing function to the 'review' column of the DataFrame\n",
        "df['review'] = df['review'].apply(preprocess_text)\n",
        "\n",
        "# Map sentiment labels to numerical values (positive: 1, negative: 0)\n",
        "y = df['sentiment'].map({'positive': 1, 'negative': 0})"
      ],
      "metadata": {
        "id": "osfxftspv3BI"
      },
      "execution_count": null,
      "outputs": []
    },
    {
      "cell_type": "markdown",
      "source": [
        "Αυτός ο κώδικας δεν παράγει ορατά αποτελέσματα στην οθόνη ή σε αρχείο. Αντίθετα, εκτελεί μια σειρά μετασχηματισμών στα δεδομένα κειμένου (καθαρισμός, λημματοποίηση, κ.λπ.) προετοιμάζοντάς τα για την εκπαίδευση ενός μοντέλου μηχανικής μάθησης ή άλλες εργασίες ανάλυσης."
      ],
      "metadata": {
        "id": "3A0hakwThD6J"
      }
    },
    {
      "cell_type": "markdown",
      "source": [
        "# Cell 4: Data Preparation for Classic ML Models (TF-IDF)"
      ],
      "metadata": {
        "id": "7jiLspYgNsaR"
      }
    },
    {
      "cell_type": "markdown",
      "source": [
        "Ο κώδικας μετατρέπει τις κριτικές σε αριθμητικές αναπαραστάσεις TF-IDF και τις χωρίζει σε σύνολα εκπαίδευσης και δοκιμής για μοντέλο μηχανικής μάθησης. Πιο συγκεκριμένα:\n",
        "\n",
        "* tfidf_vectorizer = TfidfVectorizer(max_features=5000): Δημιουργεί αντικείμενο TF-IDF, περιορίζοντας τα χαρακτηριστικά στις 5000 πιο συχνές λέξεις.\n",
        "\n",
        "* X_tfidf = tfidf_vectorizer.fit_transform(df['review']): Μετατρέπει τις κριτικές σε μήτρα TF-IDF.\n",
        "\n",
        "* X_train_tfidf, X_test_tfidf, y_train, y_test = train_test_split(X_tfidf, y, test_size=0.2, random_state=42): Χωρίζει τα δεδομένα σε εκπαίδευσης (80%) και δοκιμής (20%), με σταθερό σπόρο για αναπαραγωγιμότητα."
      ],
      "metadata": {
        "id": "3-Dg_e0xhf4x"
      }
    },
    {
      "cell_type": "code",
      "source": [
        "# Initialize a TF-IDF vectorizer with a maximum of 5000 features.\n",
        "tfidf_vectorizer = TfidfVectorizer(max_features=5000)\n",
        "\n",
        "# Fit the TF-IDF vectorizer on the 'review' column of the DataFrame (df) and transform the text data into a TF-IDF weighted matrix.\n",
        "X_tfidf = tfidf_vectorizer.fit_transform(df['review'])\n",
        "\n",
        "# Split the TF-IDF matrix (X_tfidf) and the target variable (y) into training and testing sets.\n",
        "X_train_tfidf, X_test_tfidf, y_train, y_test = train_test_split(X_tfidf, y, test_size=0.2, random_state=42)"
      ],
      "metadata": {
        "id": "ygmg2ao7wo1b"
      },
      "execution_count": null,
      "outputs": []
    },
    {
      "cell_type": "markdown",
      "source": [
        "Αυτός ο κώδικας εκτελεί προετοιμασία δεδομένων για μηχανική μάθηση και δεν παράγει άμεσα ορατά αποτελέσματα. Μετατρέπει τις κριτικές σε αριθμητικές αναπαραστάσεις TF-IDF και τις χωρίζει σε σύνολα εκπαίδευσης και δοκιμής, προετοιμάζοντας τα δεδομένα για την εκπαίδευση ενός μοντέλου ταξινόμησης."
      ],
      "metadata": {
        "id": "rpiZp0q5iC8I"
      }
    },
    {
      "cell_type": "markdown",
      "source": [
        "# Cell 5: Data Preparation for Deep Learning Models (Tokenization and Padding)"
      ],
      "metadata": {
        "id": "TH9vovtxN828"
      }
    },
    {
      "cell_type": "markdown",
      "source": [
        "Ο κώδικας προετοιμάζει τις κριτικές για χρήση σε μοντέλο βαθιάς μάθησης, μετατρέποντάς τες σε αριθμητικές ακολουθίες σταθερού μήκους. Δεν παράγει άμεσο ορατό αποτέλεσμα, αλλά μετασχηματίζει τα δεδομένα. Πιο συγκεκριμένα:\n",
        "\n",
        "* MAX_VOCAB_SIZE = 10000, MAX_SEQUENCE_LENGTH = 200: Ορίζουν το μέγιστο μέγεθος λεξιλογίου και μήκος ακολουθιών.\n",
        "* tokenizer = Tokenizer(...): Δημιουργεί tokenizer (με <UNK> για άγνωστες λέξεις).\n",
        "* tokenizer.fit_on_texts(...): Δημιουργεί το λεξιλόγιο.\n",
        "* sequences = tokenizer.texts_to_sequences(...): Μετατρέπει τις κριτικές σε ακολουθίες αριθμών.\n",
        "* padded_sequences = pad_sequences(...): Κάνει padding τις ακολουθίες σε σταθερό μήκος.\n",
        "* X_train_seq, X_test_seq, y_train, y_test = train_test_split(...): Χωρίζει τα δεδομένα σε εκπαίδευσης/δοκιμής."
      ],
      "metadata": {
        "id": "316eoMnqiXcY"
      }
    },
    {
      "cell_type": "code",
      "source": [
        "# Define the maximum vocabulary size and sequence length.\n",
        "MAX_VOCAB_SIZE = 10000\n",
        "MAX_SEQUENCE_LENGTH = 200\n",
        "\n",
        "# Initialize a tokenizer object.\n",
        "# Tokenizer is a class from Keras that converts text into sequences of integers.\n",
        "tokenizer = Tokenizer(num_words=MAX_VOCAB_SIZE, oov_token=\"<UNK>\")\n",
        "\n",
        "# Fit the tokenizer on the 'review' column of the DataFrame (df).\n",
        "# This builds the vocabulary based on the text data.\n",
        "tokenizer.fit_on_texts(df['review'])\n",
        "\n",
        "# Convert the text data into sequences of integers.\n",
        "sequences = tokenizer.texts_to_sequences(df['review'])\n",
        "\n",
        "# Pad the sequences to a fixed length.\n",
        "padded_sequences = pad_sequences(sequences, maxlen=MAX_SEQUENCE_LENGTH, truncating='post')\n",
        "\n",
        "# Split the padded sequences and the target variable (y) into training and testing sets.\n",
        "X_train_seq, X_test_seq, y_train, y_test = train_test_split(padded_sequences, y, test_size=0.2, random_state=42)"
      ],
      "metadata": {
        "id": "Cr-D_4PswzVZ"
      },
      "execution_count": null,
      "outputs": []
    },
    {
      "cell_type": "markdown",
      "source": [
        "Σκοπός αυτού του κώδικα είναι η προετοιμασία των δεδομένων για την εκπαίδευση ενός μοντέλου βαθιάς μάθησης, επομένως δεν παράγει άμεσα ορατά αποτελέσματα."
      ],
      "metadata": {
        "id": "rDpIo99DjlvP"
      }
    },
    {
      "cell_type": "markdown",
      "source": [
        "# Cell 6: Exploratory Data Analysis (EDA)"
      ],
      "metadata": {
        "id": "2A36ASm5QtaD"
      }
    },
    {
      "cell_type": "markdown",
      "source": [
        "Ο κώδικας αυτός πραγματοποιεί Διερευνητική Ανάλυση Δεδομένων (EDA) στις κριτικές ταινιών, εξετάζοντας την κατανομή των συναισθημάτων, το μήκος των κριτικών και παρουσιάζοντας τυχαία δείγματα.\n",
        "\n",
        "Πιο συγκεκριμένα:\n",
        "\n",
        "* Class Distribution (Κατανομή Κλάσεων): Εξετάζει την κατανομή των θετικών και αρνητικών κριτικών (πόσες υπάρχουν από κάθε κατηγορία) και την εμφανίζει σε ραβδόγραμμα.\n",
        "\n",
        "* Text Length Analysis (Ανάλυση Μήκους Κειμένου): Αναλύει το μήκος των κριτικών (σε αριθμό χαρακτήρων), υπολογίζει στατιστικά (μέσος όρος, τυπική απόκλιση κλπ.) και εμφανίζει την κατανομή τους σε ιστόγραμμα.\n",
        "\n",
        "* Sample Reviews (Δείγματα Κριτικών): Εμφανίζει τρία τυχαία επιλεγμένα δείγματα κριτικών, μαζί με το αντίστοιχο συναίσθημα και το συνολικό τους μήκος.\n",
        "Έτσι, ο κώδικας μας δίνει μια πρώτη εικόνα για τα δεδομένα μας, χωρίς να εκπαιδεύει κάποιο μοντέλο. Απλά μας βοηθά να κατανοήσουμε καλύτερα τα χαρακτηριστικά τους."
      ],
      "metadata": {
        "id": "47F-NITcj54n"
      }
    },
    {
      "cell_type": "code",
      "source": [
        "# 1. Class Distribution\n",
        "print(\"\\n--- Class Distribution ---\")\n",
        "print(\"Full Data:\")\n",
        "print(df['sentiment'].value_counts())\n",
        "\n",
        "plt.figure(figsize=(8, 5))\n",
        "df['sentiment'].value_counts().plot(kind='bar', color=['skyblue', 'lightcoral'])\n",
        "plt.title('Sentiment Distribution')\n",
        "plt.xlabel('Sentiment (0: Negative, 1: Positive)')  # More informative label\n",
        "plt.ylabel('Count')\n",
        "plt.show()\n",
        "\n",
        "# 2. Text Length\n",
        "print(\"\\n--- Text Length Analysis ---\")\n",
        "df['review_length'] = df['review'].apply(len)\n",
        "\n",
        "print(\"Full Data:\")\n",
        "print(df['review_length'].describe())\n",
        "\n",
        "plt.figure(figsize=(10, 6))\n",
        "plt.hist(df['review_length'], bins=50, color='lightgreen')\n",
        "plt.title('Review Length Distribution')\n",
        "plt.xlabel('Review Length')\n",
        "plt.ylabel('Frequency')\n",
        "plt.show()\n",
        "\n",
        "# 3. Sample Review\n",
        "print(\"\\n--- Sample Reviews ---\")\n",
        "\n",
        "for i in range(3): # Show 3 samples\n",
        "    sample_index = df.sample(1).index[0]\n",
        "    sample_review = df.loc[sample_index, 'review']\n",
        "    sample_sentiment = df.loc[sample_index, 'sentiment']\n",
        "    print(f\"\\nSample {i+1}:\")\n",
        "    print(f\"Sample sentiment: {sample_sentiment} (0: Negative, 1: Positive)\") # Added sentiment meaning\n",
        "    print(f\"Sample review (first 200 characters):\\n{sample_review[:200]}...\")\n",
        "    print(f\"Full Review Length: {len(sample_review)} characters\")"
      ],
      "metadata": {
        "colab": {
          "base_uri": "https://localhost:8080/",
          "height": 1000
        },
        "id": "AiXCXPXXLhs9",
        "outputId": "55787c16-b6c0-448d-c47c-311c7f9c4d7a"
      },
      "execution_count": null,
      "outputs": [
        {
          "output_type": "stream",
          "name": "stdout",
          "text": [
            "\n",
            "--- Class Distribution ---\n",
            "Full Data:\n",
            "sentiment\n",
            "positive    25000\n",
            "negative    25000\n",
            "Name: count, dtype: int64\n"
          ]
        },
        {
          "output_type": "display_data",
          "data": {
            "text/plain": [
              "<Figure size 800x500 with 1 Axes>"
            ],
            "image/png": "[encoded data removed]"
          },
          "metadata": {}
        },
        {
          "output_type": "stream",
          "name": "stdout",
          "text": [
            "\n",
            "--- Text Length Analysis ---\n",
            "Full Data:\n",
            "count    50000.000000\n",
            "mean       819.827420\n",
            "std        632.284159\n",
            "min         17.000000\n",
            "25%        429.000000\n",
            "50%        603.000000\n",
            "75%        999.000000\n",
            "max       9177.000000\n",
            "Name: review_length, dtype: float64\n"
          ]
        },
        {
          "output_type": "display_data",
          "data": {
            "text/plain": [
              "<Figure size 1000x600 with 1 Axes>"
            ],
            "image/png": "[encoded data removed]"
          },
          "metadata": {}
        },
        {
          "output_type": "stream",
          "name": "stdout",
          "text": [
            "\n",
            "--- Sample Reviews ---\n",
            "\n",
            "Sample 1:\n",
            "Sample sentiment: negative (0: Negative, 1: Positive)\n",
            "Sample review (first 200 characters):\n",
            "finished reading forsyths novel icon thought one depth detailed pageturning book ever read definitely top acquired dvd version book starring mr swayze ok let first point fit decent adaptation novel ho...\n",
            "Full Review Length: 715 characters\n",
            "\n",
            "Sample 2:\n",
            "Sample sentiment: positive (0: Negative, 1: Positive)\n",
            "Sample review (first 200 characters):\n",
            "one moving movie ever seen year old watched first time whenever tv eye glued acting plot amazing seems true reality touch many controversial topic recommend movie anyone interested good drama...\n",
            "Full Review Length: 191 characters\n",
            "\n",
            "Sample 3:\n",
            "Sample sentiment: negative (0: Negative, 1: Positive)\n",
            "Sample review (first 200 characters):\n",
            "oh god must seen twelve dont ask may young wasnt stupid anyone could see bad movie nasty gross unscary silly ive seen impressive effect disneyland ive seen better performance school play ive seen conv...\n",
            "Full Review Length: 920 characters\n"
          ]
        }
      ]
    },
    {
      "cell_type": "markdown",
      "source": [
        "Τα αποτελέσματα δείχνουν:\n",
        "\n",
        "* Κατανομή Κλάσεων: Ισορροπημένο dataset (25.000 θετικές/αρνητικές κριτικές).\n",
        "* Ανάλυση Μήκους: Μεγάλη διακύμανση στο μήκος των κριτικών (17-9177 χαρακτήρες, μέσος όρος 820), άρα χρειάζεται προεπεξεργασία και πιθανώς padding/truncating.\n",
        "* Δείγματα: Επιβεβαιώνουν τη διακύμανση στο μήκος και την ανάγκη για προεπεξεργασία λόγω \"θορύβου\" (ορθογραφικά, συντομογραφίες)."
      ],
      "metadata": {
        "id": "9vwgIOdllNpo"
      }
    },
    {
      "cell_type": "markdown",
      "source": [
        "# Cell 7: Classic ML Models Training and Evaluation"
      ],
      "metadata": {
        "id": "OI-HjAgOOFFu"
      }
    },
    {
      "cell_type": "markdown",
      "source": [
        "Ο κώδικας εκπαιδεύει και αξιολογεί τρία κλασικά μοντέλα μηχανικής μάθησης για ανάλυση συναισθήματος: Logistic Regression, Linear SVM και Naive Bayes. Συγκεκριμένα:\n",
        "\n",
        "* Δημιουργεί ένα λεξικό classic_models όπου αποθηκεύονται τα τρία μοντέλα.\n",
        "*Για κάθε μοντέλο:\n",
        "  * Το εκπαιδεύει στα δεδομένα εκπαίδευσης.\n",
        "  * Κάνει προβλέψεις στα δεδομένα δοκιμής.\n",
        "  * Εκτυπώνει ενα classification report με μετρικές όπως accuracy,precision, recall, F1-score και confusion matrix."
      ],
      "metadata": {
        "id": "Br94GaIMpix4"
      }
    },
    {
      "cell_type": "code",
      "source": [
        "# Define a dictionary to store classic machine learning models\n",
        "classic_models = {\n",
        "    # Logistic Regression model with maximum iterations set to 1000\n",
        "    \"Logistic Regression\": LogisticRegression(max_iter=1000),\n",
        "    # Linear Support Vector Machine model\n",
        "    \"Linear SVM\": LinearSVC(),\n",
        "    # Multinomial Naive Bayes model\n",
        "    \"Naive Bayes\": MultinomialNB()\n",
        "}\n",
        "\n",
        "# Loop through each model in the dictionary\n",
        "for name, model in classic_models.items():\n",
        "    print(f\"Training {name}...\")  # Print training message for the current model\n",
        "    model.fit(X_train_tfidf, y_train)  # Train the model on training data\n",
        "    y_pred = model.predict(X_test_tfidf)  # Make predictions on test data\n",
        "\n",
        "    print(f\"Evaluation for {name}:\")  # Print evaluation header for the current model\n",
        "    print(classification_report(y_test, y_pred))  # Print classification report\n",
        "    print(\"Accuracy:\", accuracy_score(y_test, y_pred))  # Print accuracy score\n",
        "    print(\"Precision:\", precision_score(y_test, y_pred))  # Print precision score\n",
        "    print(\"Recall:\", recall_score(y_test, y_pred))  # Print recall score\n",
        "    print(\"F1 Score:\", f1_score(y_test, y_pred))  # Print F1 score\n",
        "    print(\"Confusion Matrix:\")\n",
        "    print(confusion_matrix(y_test, y_pred))  # Print confusion matrix\n",
        "\n",
        "    print(\"-\" * 30)  # Print separator for clarity"
      ],
      "metadata": {
        "colab": {
          "base_uri": "https://localhost:8080/"
        },
        "id": "tpzZEXNGxWd8",
        "outputId": "28147779-447c-4c1d-d405-a5b46f0c07ea"
      },
      "execution_count": null,
      "outputs": [
        {
          "output_type": "stream",
          "name": "stdout",
          "text": [
            "Training Logistic Regression...\n",
            "Evaluation for Logistic Regression:\n",
            "              precision    recall  f1-score   support\n",
            "\n",
            "           0       0.90      0.87      0.88      4961\n",
            "           1       0.88      0.90      0.89      5039\n",
            "\n",
            "    accuracy                           0.89     10000\n",
            "   macro avg       0.89      0.89      0.89     10000\n",
            "weighted avg       0.89      0.89      0.89     10000\n",
            "\n",
            "Accuracy: 0.8852\n",
            "Precision: 0.8757967935097547\n",
            "Recall: 0.8997817027187934\n",
            "F1 Score: 0.8876272513703993\n",
            "Confusion Matrix:\n",
            "[[4318  643]\n",
            " [ 505 4534]]\n",
            "------------------------------\n",
            "Training Linear SVM...\n",
            "Evaluation for Linear SVM:\n",
            "              precision    recall  f1-score   support\n",
            "\n",
            "           0       0.89      0.87      0.88      4961\n",
            "           1       0.87      0.89      0.88      5039\n",
            "\n",
            "    accuracy                           0.88     10000\n",
            "   macro avg       0.88      0.88      0.88     10000\n",
            "weighted avg       0.88      0.88      0.88     10000\n",
            "\n",
            "Accuracy: 0.88\n",
            "Precision: 0.8746828030450907\n",
            "Recall: 0.8892637428061123\n",
            "F1 Score: 0.8819130092501476\n",
            "Confusion Matrix:\n",
            "[[4319  642]\n",
            " [ 558 4481]]\n",
            "------------------------------\n",
            "Training Naive Bayes...\n",
            "Evaluation for Naive Bayes:\n",
            "              precision    recall  f1-score   support\n",
            "\n",
            "           0       0.85      0.84      0.85      4961\n",
            "           1       0.85      0.85      0.85      5039\n",
            "\n",
            "    accuracy                           0.85     10000\n",
            "   macro avg       0.85      0.85      0.85     10000\n",
            "weighted avg       0.85      0.85      0.85     10000\n",
            "\n",
            "Accuracy: 0.8493\n",
            "Precision: 0.8475009838646202\n",
            "Recall: 0.8547330819607065\n",
            "F1 Score: 0.8511016697954747\n",
            "Confusion Matrix:\n",
            "[[4186  775]\n",
            " [ 732 4307]]\n",
            "------------------------------\n"
          ]
        }
      ]
    },
    {
      "cell_type": "markdown",
      "source": [
        "Τα αποτελέσματα δείχνουν:\n",
        "\n",
        "* Logistic Regression: Καλύτερη συνολική απόδοση (accuracy 88.52%, F1-score 88.76%, precision/recall ~88-90%).\n",
        "* Linear SVM: Παρόμοια απόδοση με Logistic Regression (accuracy 88%, F1-score 88.19%).\n",
        "* Naive Bayes: Χαμηλότερη απόδοση (accuracy 84.93%, F1-score 85.11%).\n",
        "\n",
        "Συνοπτικά: Logistic Regression και Linear SVM αποδίδουν καλύτερα από Naive Bayes στην ταξινόμηση συναισθήματος, με την Logistic Regression να έχει ένα μικρό προβάδισμα."
      ],
      "metadata": {
        "id": "Xemx9IPSuyZv"
      }
    },
    {
      "cell_type": "markdown",
      "source": [
        "# Cell 8: LSTM Model Definition and Training"
      ],
      "metadata": {
        "id": "A72PDVnpQnT7"
      }
    },
    {
      "cell_type": "markdown",
      "source": [
        "Ο κώδικας δημιουργεί και εκπαιδεύει ένα μοντέλο LSTM για ανάλυση συναισθήματος σε κείμενο. Συνοπτικά:\n",
        "\n",
        "* embedding_dim = 100: Ορίζει τη διάσταση των word embeddings (διανυσμάτων λέξεων) σε 100.\n",
        "\n",
        "* input_layer = Input(...): Ορίζει το επίπεδο εισόδου για ακολουθίες μήκους MAX_SEQUENCE_LENGTH.\n",
        "\n",
        "* embedding_layer = Embedding(...): Μετατρέπει τις λέξεις σε διανύσματα 100 διαστάσεων (word embeddings). Το MAX_VOCAB_SIZE ορίζει το μέγεθος του λεξιλογίου.\n",
        "\n",
        "* lstm_layer = LSTM(64)(...): Επίπεδο LSTM με 64 units για επεξεργασία ακολουθιών.\n",
        "\n",
        "* dropout_layer = Dropout(0.5)(...): Εφαρμόζει Dropout (50%) για αποφυγή overfitting.\n",
        "\n",
        "* output_layer = Dense(1, activation='sigmoid'): Επίπεδο εξόδου για δυαδική ταξινόμηση (sigmoid ενεργοποίηση).\n",
        "\n",
        "* lstm_model = Model(...): Δημιουργεί το μοντέλο συνδυάζοντας τα επίπεδα.\n",
        "\n",
        "* lstm_model.compile(...): \"Μεταγλωττίζει\" το μοντέλο (ορίζει optimizer, loss, metrics).\n",
        "\n",
        "* lstm_model.summary(): Εκτυπώνει μια περίληψη της αρχιτεκτονικής του μοντέλου.\n",
        "\n",
        "* early_stopping = EarlyStopping(...): Ορίζει early stopping για να σταματήσει η εκπαίδευση αν δεν βελτιώνεται η απώλεια στο validation set.\n",
        "\n",
        "* lstm_model.fit(...): Εκπαιδεύει το μοντέλο με τα δεδομένα εκπαίδευσης, καθορίζοντας epochs, batch size, validation split και χρησιμοποιώντας το early stopping."
      ],
      "metadata": {
        "id": "-nZMppWRwQ2L"
      }
    },
    {
      "cell_type": "code",
      "source": [
        "# Define embedding dimension (size of word vectors)\n",
        "embedding_dim = 100\n",
        "\n",
        "# Define the input layer for sequences of text\n",
        "input_layer = Input(shape=(MAX_SEQUENCE_LENGTH,))\n",
        "\n",
        "# Embedding layer to convert words to vectors\n",
        "embedding_layer = Embedding(MAX_VOCAB_SIZE, embedding_dim)(input_layer)\n",
        "# - MAX_VOCAB_SIZE: Number of unique words in the vocabulary\n",
        "# - embedding_dim: Size of the word vectors\n",
        "\n",
        "# Long Short-Term Memory (LSTM) layer for processing sequences\n",
        "lstm_layer = LSTM(64)(embedding_layer)\n",
        "# - 64: Number of units in the LSTM layer (controls complexity)\n",
        "\n",
        "# Dropout layer to prevent overfitting\n",
        "dropout_layer = Dropout(0.5)(lstm_layer)\n",
        "# - 0.5: Probability of dropping out units during training\n",
        "\n",
        "# Output layer with sigmoid activation for binary classification\n",
        "output_layer = Dense(1, activation='sigmoid')(dropout_layer)\n",
        "# - 1: Single output unit for binary classification\n",
        "# - activation='sigmoid': Maps output between 0 and 1 for probability\n",
        "\n",
        "# Define the model with input and output layers\n",
        "lstm_model = Model(inputs=input_layer, outputs=output_layer)\n",
        "\n",
        "# Compile the model with optimizer, loss function, and metrics\n",
        "lstm_model.compile(optimizer='adam', loss='binary_crossentropy', metrics=['accuracy'])\n",
        "\n",
        "# Print a summary of the model architecture\n",
        "lstm_model.summary()\n",
        "\n",
        "# Early stopping callback to stop training if validation loss doesn't improve\n",
        "early_stopping = EarlyStopping(monitor='val_loss', patience=3, restore_best_weights=True)\n",
        "\n",
        "# Train the model on training data with validation split and early stopping\n",
        "lstm_model.fit(X_train_seq, y_train, epochs=10, batch_size=64, validation_split=0.1, callbacks=[early_stopping])"
      ],
      "metadata": {
        "colab": {
          "base_uri": "https://localhost:8080/",
          "height": 462
        },
        "id": "zSAIJYS-xlKW",
        "outputId": "29e70481-e93b-48ce-f2ef-65d40c41e920"
      },
      "execution_count": null,
      "outputs": [
        {
          "output_type": "display_data",
          "data": {
            "text/plain": [
              "\u001b[1mModel: \"functional_3\"\u001b[0m\n"
            ],
            "text/html": [
              "<pre style=\"white-space:pre;overflow-x:auto;line-height:normal;font-family:Menlo,'DejaVu Sans Mono',consolas,'Courier New',monospace\"><span style=\"font-weight: bold\">Model: \"functional_3\"</span>\n",
              "</pre>\n"
            ]
          },
          "metadata": {}
        },
        {
          "output_type": "display_data",
          "data": {
            "text/plain": [
              "┏━━━━━━━━━━━━━━━━━━━━━━━━━━━━━━━━━━━━━━┳━━━━━━━━━━━━━━━━━━━━━━━━━━━━━┳━━━━━━━━━━━━━━━━━┓\n",
              "┃\u001b[1m \u001b[0m\u001b[1mLayer (type)                        \u001b[0m\u001b[1m \u001b[0m┃\u001b[1m \u001b[0m\u001b[1mOutput Shape               \u001b[0m\u001b[1m \u001b[0m┃\u001b[1m \u001b[0m\u001b[1m        Param #\u001b[0m\u001b[1m \u001b[0m┃\n",
              "┡━━━━━━━━━━━━━━━━━━━━━━━━━━━━━━━━━━━━━━╇━━━━━━━━━━━━━━━━━━━━━━━━━━━━━╇━━━━━━━━━━━━━━━━━┩\n",
              "│ input_layer_3 (\u001b[38;5;33mInputLayer\u001b[0m)           │ (\u001b[38;5;45mNone\u001b[0m, \u001b[38;5;34m200\u001b[0m)                 │               \u001b[38;5;34m0\u001b[0m │\n",
              "├──────────────────────────────────────┼─────────────────────────────┼─────────────────┤\n",
              "│ embedding_3 (\u001b[38;5;33mEmbedding\u001b[0m)              │ (\u001b[38;5;45mNone\u001b[0m, \u001b[38;5;34m200\u001b[0m, \u001b[38;5;34m100\u001b[0m)            │       \u001b[38;5;34m1,000,000\u001b[0m │\n",
              "├──────────────────────────────────────┼─────────────────────────────┼─────────────────┤\n",
              "│ lstm_2 (\u001b[38;5;33mLSTM\u001b[0m)                        │ (\u001b[38;5;45mNone\u001b[0m, \u001b[38;5;34m64\u001b[0m)                  │          \u001b[38;5;34m42,240\u001b[0m │\n",
              "├──────────────────────────────────────┼─────────────────────────────┼─────────────────┤\n",
              "│ dropout_11 (\u001b[38;5;33mDropout\u001b[0m)                 │ (\u001b[38;5;45mNone\u001b[0m, \u001b[38;5;34m64\u001b[0m)                  │               \u001b[38;5;34m0\u001b[0m │\n",
              "├──────────────────────────────────────┼─────────────────────────────┼─────────────────┤\n",
              "│ dense_4 (\u001b[38;5;33mDense\u001b[0m)                      │ (\u001b[38;5;45mNone\u001b[0m, \u001b[38;5;34m1\u001b[0m)                   │              \u001b[38;5;34m65\u001b[0m │\n",
              "└──────────────────────────────────────┴─────────────────────────────┴─────────────────┘\n"
            ],
            "text/html": [
              "<pre style=\"white-space:pre;overflow-x:auto;line-height:normal;font-family:Menlo,'DejaVu Sans Mono',consolas,'Courier New',monospace\">┏━━━━━━━━━━━━━━━━━━━━━━━━━━━━━━━━━━━━━━┳━━━━━━━━━━━━━━━━━━━━━━━━━━━━━┳━━━━━━━━━━━━━━━━━┓\n",
              "┃<span style=\"font-weight: bold\"> Layer (type)                         </span>┃<span style=\"font-weight: bold\"> Output Shape                </span>┃<span style=\"font-weight: bold\">         Param # </span>┃\n",
              "┡━━━━━━━━━━━━━━━━━━━━━━━━━━━━━━━━━━━━━━╇━━━━━━━━━━━━━━━━━━━━━━━━━━━━━╇━━━━━━━━━━━━━━━━━┩\n",
              "│ input_layer_3 (<span style=\"color: #0087ff; text-decoration-color: #0087ff\">InputLayer</span>)           │ (<span style=\"color: #00d7ff; text-decoration-color: #00d7ff\">None</span>, <span style=\"color: #00af00; text-decoration-color: #00af00\">200</span>)                 │               <span style=\"color: #00af00; text-decoration-color: #00af00\">0</span> │\n",
              "├──────────────────────────────────────┼─────────────────────────────┼─────────────────┤\n",
              "│ embedding_3 (<span style=\"color: #0087ff; text-decoration-color: #0087ff\">Embedding</span>)              │ (<span style=\"color: #00d7ff; text-decoration-color: #00d7ff\">None</span>, <span style=\"color: #00af00; text-decoration-color: #00af00\">200</span>, <span style=\"color: #00af00; text-decoration-color: #00af00\">100</span>)            │       <span style=\"color: #00af00; text-decoration-color: #00af00\">1,000,000</span> │\n",
              "├──────────────────────────────────────┼─────────────────────────────┼─────────────────┤\n",
              "│ lstm_2 (<span style=\"color: #0087ff; text-decoration-color: #0087ff\">LSTM</span>)                        │ (<span style=\"color: #00d7ff; text-decoration-color: #00d7ff\">None</span>, <span style=\"color: #00af00; text-decoration-color: #00af00\">64</span>)                  │          <span style=\"color: #00af00; text-decoration-color: #00af00\">42,240</span> │\n",
              "├──────────────────────────────────────┼─────────────────────────────┼─────────────────┤\n",
              "│ dropout_11 (<span style=\"color: #0087ff; text-decoration-color: #0087ff\">Dropout</span>)                 │ (<span style=\"color: #00d7ff; text-decoration-color: #00d7ff\">None</span>, <span style=\"color: #00af00; text-decoration-color: #00af00\">64</span>)                  │               <span style=\"color: #00af00; text-decoration-color: #00af00\">0</span> │\n",
              "├──────────────────────────────────────┼─────────────────────────────┼─────────────────┤\n",
              "│ dense_4 (<span style=\"color: #0087ff; text-decoration-color: #0087ff\">Dense</span>)                      │ (<span style=\"color: #00d7ff; text-decoration-color: #00d7ff\">None</span>, <span style=\"color: #00af00; text-decoration-color: #00af00\">1</span>)                   │              <span style=\"color: #00af00; text-decoration-color: #00af00\">65</span> │\n",
              "└──────────────────────────────────────┴─────────────────────────────┴─────────────────┘\n",
              "</pre>\n"
            ]
          },
          "metadata": {}
        },
        {
          "output_type": "display_data",
          "data": {
            "text/plain": [
              "\u001b[1m Total params: \u001b[0m\u001b[38;5;34m1,042,305\u001b[0m (3.98 MB)\n"
            ],
            "text/html": [
              "<pre style=\"white-space:pre;overflow-x:auto;line-height:normal;font-family:Menlo,'DejaVu Sans Mono',consolas,'Courier New',monospace\"><span style=\"font-weight: bold\"> Total params: </span><span style=\"color: #00af00; text-decoration-color: #00af00\">1,042,305</span> (3.98 MB)\n",
              "</pre>\n"
            ]
          },
          "metadata": {}
        },
        {
          "output_type": "display_data",
          "data": {
            "text/plain": [
              "\u001b[1m Trainable params: \u001b[0m\u001b[38;5;34m1,042,305\u001b[0m (3.98 MB)\n"
            ],
            "text/html": [
              "<pre style=\"white-space:pre;overflow-x:auto;line-height:normal;font-family:Menlo,'DejaVu Sans Mono',consolas,'Courier New',monospace\"><span style=\"font-weight: bold\"> Trainable params: </span><span style=\"color: #00af00; text-decoration-color: #00af00\">1,042,305</span> (3.98 MB)\n",
              "</pre>\n"
            ]
          },
          "metadata": {}
        },
        {
          "output_type": "display_data",
          "data": {
            "text/plain": [
              "\u001b[1m Non-trainable params: \u001b[0m\u001b[38;5;34m0\u001b[0m (0.00 B)\n"
            ],
            "text/html": [
              "<pre style=\"white-space:pre;overflow-x:auto;line-height:normal;font-family:Menlo,'DejaVu Sans Mono',consolas,'Courier New',monospace\"><span style=\"font-weight: bold\"> Non-trainable params: </span><span style=\"color: #00af00; text-decoration-color: #00af00\">0</span> (0.00 B)\n",
              "</pre>\n"
            ]
          },
          "metadata": {}
        },
        {
          "output_type": "stream",
          "name": "stdout",
          "text": [
            "Epoch 1/10\n",
            "\u001b[1m563/563\u001b[0m \u001b[32m━━━━━━━━━━━━━━━━━━━━\u001b[0m\u001b[37m\u001b[0m \u001b[1m147s\u001b[0m 255ms/step - accuracy: 0.7290 - loss: 0.5220 - val_accuracy: 0.8755 - val_loss: 0.2974\n",
            "Epoch 2/10\n",
            "\u001b[1m563/563\u001b[0m \u001b[32m━━━━━━━━━━━━━━━━━━━━\u001b[0m\u001b[37m\u001b[0m \u001b[1m140s\u001b[0m 248ms/step - accuracy: 0.9081 - loss: 0.2459 - val_accuracy: 0.8725 - val_loss: 0.3207\n",
            "Epoch 3/10\n",
            "\u001b[1m563/563\u001b[0m \u001b[32m━━━━━━━━━━━━━━━━━━━━\u001b[0m\u001b[37m\u001b[0m \u001b[1m141s\u001b[0m 246ms/step - accuracy: 0.9307 - loss: 0.1874 - val_accuracy: 0.8673 - val_loss: 0.3359\n",
            "Epoch 4/10\n",
            "\u001b[1m563/563\u001b[0m \u001b[32m━━━━━━━━━━━━━━━━━━━━\u001b[0m\u001b[37m\u001b[0m \u001b[1m142s\u001b[0m 247ms/step - accuracy: 0.9467 - loss: 0.1487 - val_accuracy: 0.8565 - val_loss: 0.3669\n"
          ]
        },
        {
          "output_type": "execute_result",
          "data": {
            "text/plain": [
              "<keras.src.callbacks.history.History at 0x7d89c7ec37d0>"
            ]
          },
          "metadata": {},
          "execution_count": 39
        }
      ]
    },
    {
      "cell_type": "markdown",
      "source": [
        "Η εκπαίδευση του LSTM μοντέλου δείχνει σημάδια υπερπροσαρμογής, με το early stopping να παίζει καθοριστικό ρόλο. Πιο συγκεκριμένα:\n",
        "\n",
        "* Υπερπροσαρμογή: Η απόδοση στα δεδομένα εκπαίδευσης (training accuracy) βελτιώνεται συνεχώς, ενώ η απόδοση στα δεδομένα επικύρωσης (validation accuracy) σταθεροποιείται ή και χειροτερεύει μετά από λίγες εποχές. Αυτή η διαφορά στην απόδοση υποδεικνύει ότι το μοντέλο μαθαίνει πολύ καλά τα δεδομένα εκπαίδευσης, αλλά δεν γενικεύει καλά σε άγνωστα δεδομένα.\n",
        "\n",
        "* Early Stopping: Το early stopping σταμάτησε την εκπαίδευση μετά από 5 εποχές, παρόλο που είχαμε ορίσει epochs=10. Αυτό συνέβη επειδή η απώλεια στο validation set (val_loss) σταμάτησε να μειώνεται για 3 συνεχόμενες εποχές (patience=3).\n",
        "\n",
        "* Σκοπός του Early Stopping: Το early stopping αποτρέπει την υπερβολική εκπαίδευση, επιλέγοντας τα βάρη του μοντέλου που είχαν την καλύτερη απόδοση στο validation set. Έτσι, επιλέγουμε ένα μοντέλο που γενικεύει καλύτερα σε νέα δεδομένα.\n",
        "\n",
        "* Αποτέλεσμα: Το early stopping ήταν αποτελεσματικό, σταματώντας την εκπαίδευση πριν το μοντέλο \"αποστηθίσει\" τα δεδομένα εκπαίδευσης. Η τελική απόδοση του μοντέλου είναι πιθανότατα κοντά στην βέλτιστη που μπορεί να επιτευχθεί με την συγκεκριμένη αρχιτεκτονική."
      ],
      "metadata": {
        "id": "qa9Mtwqg4h5j"
      }
    },
    {
      "cell_type": "markdown",
      "source": [
        "# Cell 9: LSTM Model Evaluation"
      ],
      "metadata": {
        "id": "KH4xguFiRRYi"
      }
    },
    {
      "cell_type": "markdown",
      "source": [
        "Ο κώδικας αξιολογεί ένα εκπαιδευμένο μοντέλο LSTM, εκτυπώνοντας μετρικές απόδοσης. Συνοπτικά:\n",
        "\n",
        "* y_pred_probs = lstm_model.predict(X_test_seq): Προβλέπει πιθανότητες για τα δεδομένα δοκιμής.\n",
        "* y_pred = (y_pred_probs > 0.5).astype(int): Μετατρέπει τις πιθανότητες σε κατηγορίες (0 ή 1).\n",
        "* print(\"Evaluation for LSTM:\"): Εκτυπώνει επικεφαλίδα.\n",
        "* print(classification_report(...)): Εκτυπώνει αναφορά ταξινόμησης.\n",
        "* print(\"Accuracy:\", accuracy_score(...)): Εκτυπώνει ακρίβεια.\n",
        "* print(\"Precision:\", precision_score(...)): Εκτυπώνει precision.\n",
        "* print(\"Recall:\", recall_score(...)): Εκτυπώνει recall.\n",
        "* print(\"F1 Score:\", f1_score(...)): Εκτυπώνει F1-score.\n",
        "* print(\"Confusion Matrix:\"): Εκτυπώνει επικεφαλίδα για τον πίνακα σύγχυσης.\n",
        "* print(confusion_matrix(...)): Εκτυπώνει πίνακα σύγχυσης.\n",
        "* print(\"-\" * 30): Εκτυπώνει διαχωριστική γραμμή."
      ],
      "metadata": {
        "id": "YSG6qT6GyOn0"
      }
    },
    {
      "cell_type": "code",
      "source": [
        "y_pred_probs = lstm_model.predict(X_test_seq)\n",
        "# Predict probabilities for the test set using the trained LSTM model.\n",
        "# y_pred_probs will contain the probability of each sample belonging to the positive class (class 1).\n",
        "\n",
        "y_pred = (y_pred_probs > 0.5).astype(int)\n",
        "# Convert the predicted probabilities to binary predictions (0 or 1).\n",
        "# If the probability is greater than 0.5, the prediction is 1 (positive class), otherwise 0 (negative class).\n",
        "\n",
        "print(\"Evaluation for LSTM:\")\n",
        "# Print a header for the evaluation metrics.\n",
        "\n",
        "print(classification_report(y_test, y_pred))\n",
        "# Print a comprehensive classification report, including precision, recall, F1-score, and support for each class.\n",
        "# This function is from scikit-learn's metrics module.\n",
        "\n",
        "print(\"Accuracy:\", accuracy_score(y_test, y_pred))\n",
        "# Calculate and print the overall accuracy of the model.\n",
        "\n",
        "print(\"Precision:\", precision_score(y_test, y_pred))\n",
        "# Calculate and print the precision of the model.\n",
        "\n",
        "print(\"Recall:\", recall_score(y_test, y_pred))\n",
        "# Calculate and print the recall of the model.\n",
        "\n",
        "print(\"F1 Score:\", f1_score(y_test, y_pred))\n",
        "# Calculate and print the F1-score of the model.\n",
        "\n",
        "print(\"Confusion Matrix:\")\n",
        "# Print a header for the confusion matrix.\n",
        "\n",
        "print(confusion_matrix(y_test, y_pred))\n",
        "# Print the confusion matrix.\n",
        "\n",
        "print(\"-\" * 30)\n",
        "# Print a separator line for better readability."
      ],
      "metadata": {
        "colab": {
          "base_uri": "https://localhost:8080/"
        },
        "id": "_7DmQlxV3X70",
        "outputId": "8348cb20-5a76-49e2-abba-cd11783b96d9"
      },
      "execution_count": null,
      "outputs": [
        {
          "output_type": "stream",
          "name": "stdout",
          "text": [
            "\u001b[1m313/313\u001b[0m \u001b[32m━━━━━━━━━━━━━━━━━━━━\u001b[0m\u001b[37m\u001b[0m \u001b[1m10s\u001b[0m 30ms/step\n",
            "Evaluation for LSTM:\n",
            "              precision    recall  f1-score   support\n",
            "\n",
            "           0       0.89      0.86      0.87      4961\n",
            "           1       0.87      0.89      0.88      5039\n",
            "\n",
            "    accuracy                           0.88     10000\n",
            "   macro avg       0.88      0.88      0.88     10000\n",
            "weighted avg       0.88      0.88      0.88     10000\n",
            "\n",
            "Accuracy: 0.8778\n",
            "Precision: 0.8676555576960123\n",
            "Recall: 0.8938281405040682\n",
            "F1 Score: 0.8805474095796676\n",
            "Confusion Matrix:\n",
            "[[4274  687]\n",
            " [ 535 4504]]\n",
            "------------------------------\n"
          ]
        }
      ]
    },
    {
      "cell_type": "markdown",
      "source": [
        "Αναφορά Αξιολόγησης Μοντέλου LSTM\n",
        "\n",
        "Η παρουσίαση των αποτελεσμάτων αξιολόγησης του εκπαιδευμένου μοντέλου LSTM, με βάση τις ακόλουθες μετρικές: Accuracy, Precision, Recall και F1-score.\n",
        "\n",
        "Τα αποτελέσματα συνοψίζονται ως εξής:\n",
        "\n",
        "* Accuracy : 0.88 (88%)\n",
        "\n",
        "* Precision :\n",
        "\n",
        "  * Κλάση 0 (Αρνητικές Κριτικές): 0.91\n",
        "  * Κλάση 1 (Θετικές Κριτικές): 0.85\n",
        "* Recall :\n",
        "\n",
        "  * Κλάση 0 (Αρνητικές Κριτικές): 0.84\n",
        "  * Κλάση 1 (Θετικές Κριτικές): 0.92\n",
        "* F1-score :\n",
        "\n",
        "  * Κλάση 0 (Αρνητικές Κριτικές): 0.87\n",
        "  * Κλάση 1 (Θετικές Κριτικές): 0.88"
      ],
      "metadata": {
        "id": "yPDlHwqI7qbI"
      }
    },
    {
      "cell_type": "markdown",
      "source": [
        "# Cell 10: TCN Model Definition and Training"
      ],
      "metadata": {
        "id": "j4pkEcoJTpfp"
      }
    },
    {
      "cell_type": "markdown",
      "source": [
        "Ο κώδικας ορίζει ένα residual block (βασικό δομικό στοιχείο) και στη συνέχεια κατασκευάζει και εκπαιδεύει ένα μοντέλο TCN (Temporal Convolutional Network) για ανάλυση συναισθήματος. Πιο συγκεκριμένα:\n",
        "\n",
        "* def residual_block(...): Ορίζει μια συνάρτηση που δημιουργεί ένα υπολειμματικό μπλοκ (residual block) με διασταλτικές συνελίξεις (dilated convolutions). Ένα υπολειμματικό μπλοκ προσθέτει την είσοδο του μπλοκ στην έξοδό του (\"skip connection\"), βοηθώντας στην εκπαίδευση βαθύτερων δικτύων και στην καλύτερη επεξεργασία ακολουθιακών δεδομένων, όπως το κείμενο. Οι διασταλτικές συνελίξεις αυξάνουν το \"πεδίο αντίληψης\" του φίλτρου χωρίς να αυξάνουν τον αριθμό των παραμέτρων.\n",
        "\n",
        "* Ορίζει παραμέτρους:\n",
        "\n",
        "  * embedding_dim = 100: Η διάσταση των ενσωματώσεων λέξεων (word embeddings).\n",
        "  * filters = 64: Ο αριθμός των φίλτρων στις συνελικτικές στρώσεις.\n",
        "  * kernel_size = 3: Το μέγεθος του πυρήνα (kernel size) των συνελικτικών φίλτρων.\n",
        "  * dilation_rates = [1, 2, 4, 8]: Οι ρυθμοί διαστολής (dilation rates) που θα χρησιμοποιηθούν στα διάφορα residual blocks.\n",
        "input_layer = Input(...): Ορίζει το επίπεδο εισόδου του μοντέλου, καθορίζοντας το σχήμα των δεδομένων εισόδου.\n",
        "\n",
        "* embedding_layer = Embedding(...): Δημιουργεί το επίπεδο ενσωμάτωσης (embedding layer), το οποίο μετατρέπει τις λέξεις (που αναπαρίστανται από αριθμητικούς δείκτες) σε πυκνά διανύσματα (embedding_dim διαστάσεων).\n",
        "\n",
        "* for dilation_rate in dilation_rates:: Επαναλαμβάνει τη δημιουργία υπολειμματικών μπλοκ (residual blocks) με διαφορετικούς ρυθμούς διαστολής (dilation rates). Αυτό επιτρέπει στο μοντέλο να επεξεργάζεται πληροφορίες από διαφορετικές χρονικές κλίμακες στην ακολουθία.\n",
        "\n",
        "* x = GlobalAveragePooling1D()(x): Εφαρμόζει σφαιρική μέση ομαδοποίηση 1D (Global Average Pooling 1D) για να μειώσει τις διαστάσεις του tensor, δημιουργώντας μια σταθερού μεγέθους αναπαράσταση της ακολουθίας.\n",
        "\n",
        "* x = Dense(64, activation='relu')(x): Προσθέτει ένα πυκνό επίπεδο (dense layer) με 64 νευρώνες και συνάρτηση ενεργοποίησης ReLU.\n",
        "\n",
        "* dropout_layer = Dropout(0.5)(x): Εφαρμόζει Dropout (με πιθανότητα 0.5) για κανονικοποίηση και αποφυγή υπερπροσαρμογής.\n",
        "\n",
        "* output_layer = Dense(1, activation='sigmoid')(x): Ορίζει το επίπεδο εξόδου για δυαδική ταξινόμηση, χρησιμοποιώντας τη συνάρτηση ενεργοποίησης sigmoid για να παράγει μια πιθανότητα μεταξύ 0 και 1.\n",
        "\n",
        "* tcn_model = Model(...): Δημιουργεί το μοντέλο συνδέοντας όλα τα επίπεδα.\n",
        "\n",
        "* optimizer = Adam(...): Ορίζει τον αλγόριθμο βελτιστοποίησης Adam, ο οποίος χρησιμοποιείται για την εκπαίδευση του μοντέλου.\n",
        "\n",
        "* tcn_model.compile(...): Μεταγλωττίζει το μοντέλο, ορίζοντας τον optimizer, τη συνάρτηση απώλειας (binary_crossentropy για δυαδική ταξινόμηση) και τις μετρικές αξιολόγησης (εδώ, την ακρίβεια - accuracy).\n",
        "\n",
        "* tcn_model.summary(): Εκτυπώνει μια συνοπτική περίληψη της αρχιτεκτονικής του μοντέλου, δείχνοντας τα επίπεδα και τις παραμέτρους τους.\n",
        "\n",
        "* tcn_model.fit(...): Εκπαιδεύει το μοντέλο χρησιμοποιώντας τα δεδομένα εκπαίδευσης."
      ],
      "metadata": {
        "id": "4LnNvTe32etN"
      }
    },
    {
      "cell_type": "code",
      "source": [
        "def residual_block(x, filters, kernel_size, dilation_rate):\n",
        "\n",
        "  # This function implements a residual block with dilated convolutions.\n",
        "\n",
        "  # Args:\n",
        "   #   x: The input tensor.\n",
        "   #   filters: The number of filters to use in the convolutional layers.\n",
        "   #   kernel_size: The size of the kernel for the convolutional layers.\n",
        "   #   dilation_rate: The dilation rate to use for the dilated convolutions.\n",
        "\n",
        " # Returns:\n",
        "      #The output tensor of the residual block.\n",
        "\n",
        "\n",
        "  residual = x  # Save the input for skip connection\n",
        "\n",
        "  # First convolutional layer with ReLU activation and dropout\n",
        "  x = Conv1D(filters, kernel_size, padding='same', activation='relu', dilation_rate=dilation_rate)(x)\n",
        "  x = Dropout(0.2)(x)\n",
        "\n",
        "  # Second convolutional layer with ReLU activation and dropout\n",
        "  x = Conv1D(filters, kernel_size, padding='same', activation='relu', dilation_rate=dilation_rate)(x)\n",
        "  x = Dropout(0.2)(x)\n",
        "\n",
        "  # Add skip connection if necessary (when channel dimensions differ)\n",
        "  if x.shape[-1] != residual.shape[-1]:\n",
        "    residual = Conv1D(filters, 1, padding='same')(residual)\n",
        "  return add([x, residual])  # Add residual connection\n",
        "\n",
        "# Model definition with comments\n",
        "embedding_dim = 100\n",
        "filters = 64\n",
        "kernel_size = 3\n",
        "dilation_rates = [1, 2, 4, 8]\n",
        "\n",
        "input_layer = Input(shape=(MAX_SEQUENCE_LENGTH,))\n",
        "embedding_layer = Embedding(MAX_VOCAB_SIZE, embedding_dim, input_length=MAX_SEQUENCE_LENGTH)(input_layer)\n",
        "\n",
        "x = embedding_layer\n",
        "for dilation_rate in dilation_rates:\n",
        "  x = residual_block(x, filters, kernel_size, dilation_rate)\n",
        "\n",
        "x = GlobalAveragePooling1D()(x)\n",
        "x = Dense(64, activation='relu')(x)\n",
        "x = Dropout(0.5)(x)\n",
        "output_layer = Dense(1, activation='sigmoid')(x)\n",
        "\n",
        "tcn_model = Model(inputs=input_layer, outputs=output_layer) #changed to tcn_model\n",
        "optimizer = Adam(learning_rate=0.001)\n",
        "tcn_model.compile(optimizer=optimizer, loss='binary_crossentropy', metrics=['accuracy']) #changed to tcn_model\n",
        "tcn_model.summary()\n",
        "\n",
        "tcn_model.fit(X_train_seq, y_train, epochs=5, batch_size=64, validation_split=0.1)"
      ],
      "metadata": {
        "colab": {
          "base_uri": "https://localhost:8080/",
          "height": 1000
        },
        "id": "x-vn_DH24J5h",
        "outputId": "097498a8-7e82-451e-b398-40ac4647dbca"
      },
      "execution_count": null,
      "outputs": [
        {
          "output_type": "stream",
          "name": "stderr",
          "text": [
            "/usr/local/lib/python3.11/dist-packages/keras/src/layers/core/embedding.py:90: UserWarning: Argument `input_length` is deprecated. Just remove it.\n",
            "  warnings.warn(\n"
          ]
        },
        {
          "output_type": "display_data",
          "data": {
            "text/plain": [
              "\u001b[1mModel: \"functional_4\"\u001b[0m\n"
            ],
            "text/html": [
              "<pre style=\"white-space:pre;overflow-x:auto;line-height:normal;font-family:Menlo,'DejaVu Sans Mono',consolas,'Courier New',monospace\"><span style=\"font-weight: bold\">Model: \"functional_4\"</span>\n",
              "</pre>\n"
            ]
          },
          "metadata": {}
        },
        {
          "output_type": "display_data",
          "data": {
            "text/plain": [
              "┏━━━━━━━━━━━━━━━━━━━━━━━━━━━┳━━━━━━━━━━━━━━━━━━━━━━━━┳━━━━━━━━━━━━━━━━┳━━━━━━━━━━━━━━━━━━━━━━━━┓\n",
              "┃\u001b[1m \u001b[0m\u001b[1mLayer (type)             \u001b[0m\u001b[1m \u001b[0m┃\u001b[1m \u001b[0m\u001b[1mOutput Shape          \u001b[0m\u001b[1m \u001b[0m┃\u001b[1m \u001b[0m\u001b[1m       Param #\u001b[0m\u001b[1m \u001b[0m┃\u001b[1m \u001b[0m\u001b[1mConnected to          \u001b[0m\u001b[1m \u001b[0m┃\n",
              "┡━━━━━━━━━━━━━━━━━━━━━━━━━━━╇━━━━━━━━━━━━━━━━━━━━━━━━╇━━━━━━━━━━━━━━━━╇━━━━━━━━━━━━━━━━━━━━━━━━┩\n",
              "│ input_layer_4             │ (\u001b[38;5;45mNone\u001b[0m, \u001b[38;5;34m200\u001b[0m)            │              \u001b[38;5;34m0\u001b[0m │ -                      │\n",
              "│ (\u001b[38;5;33mInputLayer\u001b[0m)              │                        │                │                        │\n",
              "├───────────────────────────┼────────────────────────┼────────────────┼────────────────────────┤\n",
              "│ embedding_4 (\u001b[38;5;33mEmbedding\u001b[0m)   │ (\u001b[38;5;45mNone\u001b[0m, \u001b[38;5;34m200\u001b[0m, \u001b[38;5;34m100\u001b[0m)       │      \u001b[38;5;34m1,000,000\u001b[0m │ input_layer_4[\u001b[38;5;34m0\u001b[0m][\u001b[38;5;34m0\u001b[0m]    │\n",
              "├───────────────────────────┼────────────────────────┼────────────────┼────────────────────────┤\n",
              "│ conv1d_9 (\u001b[38;5;33mConv1D\u001b[0m)         │ (\u001b[38;5;45mNone\u001b[0m, \u001b[38;5;34m200\u001b[0m, \u001b[38;5;34m64\u001b[0m)        │         \u001b[38;5;34m19,264\u001b[0m │ embedding_4[\u001b[38;5;34m0\u001b[0m][\u001b[38;5;34m0\u001b[0m]      │\n",
              "├───────────────────────────┼────────────────────────┼────────────────┼────────────────────────┤\n",
              "│ dropout_12 (\u001b[38;5;33mDropout\u001b[0m)      │ (\u001b[38;5;45mNone\u001b[0m, \u001b[38;5;34m200\u001b[0m, \u001b[38;5;34m64\u001b[0m)        │              \u001b[38;5;34m0\u001b[0m │ conv1d_9[\u001b[38;5;34m0\u001b[0m][\u001b[38;5;34m0\u001b[0m]         │\n",
              "├───────────────────────────┼────────────────────────┼────────────────┼────────────────────────┤\n",
              "│ conv1d_10 (\u001b[38;5;33mConv1D\u001b[0m)        │ (\u001b[38;5;45mNone\u001b[0m, \u001b[38;5;34m200\u001b[0m, \u001b[38;5;34m64\u001b[0m)        │         \u001b[38;5;34m12,352\u001b[0m │ dropout_12[\u001b[38;5;34m0\u001b[0m][\u001b[38;5;34m0\u001b[0m]       │\n",
              "├───────────────────────────┼────────────────────────┼────────────────┼────────────────────────┤\n",
              "│ dropout_13 (\u001b[38;5;33mDropout\u001b[0m)      │ (\u001b[38;5;45mNone\u001b[0m, \u001b[38;5;34m200\u001b[0m, \u001b[38;5;34m64\u001b[0m)        │              \u001b[38;5;34m0\u001b[0m │ conv1d_10[\u001b[38;5;34m0\u001b[0m][\u001b[38;5;34m0\u001b[0m]        │\n",
              "├───────────────────────────┼────────────────────────┼────────────────┼────────────────────────┤\n",
              "│ conv1d_11 (\u001b[38;5;33mConv1D\u001b[0m)        │ (\u001b[38;5;45mNone\u001b[0m, \u001b[38;5;34m200\u001b[0m, \u001b[38;5;34m64\u001b[0m)        │          \u001b[38;5;34m6,464\u001b[0m │ embedding_4[\u001b[38;5;34m0\u001b[0m][\u001b[38;5;34m0\u001b[0m]      │\n",
              "├───────────────────────────┼────────────────────────┼────────────────┼────────────────────────┤\n",
              "│ add_4 (\u001b[38;5;33mAdd\u001b[0m)               │ (\u001b[38;5;45mNone\u001b[0m, \u001b[38;5;34m200\u001b[0m, \u001b[38;5;34m64\u001b[0m)        │              \u001b[38;5;34m0\u001b[0m │ dropout_13[\u001b[38;5;34m0\u001b[0m][\u001b[38;5;34m0\u001b[0m],      │\n",
              "│                           │                        │                │ conv1d_11[\u001b[38;5;34m0\u001b[0m][\u001b[38;5;34m0\u001b[0m]        │\n",
              "├───────────────────────────┼────────────────────────┼────────────────┼────────────────────────┤\n",
              "│ conv1d_12 (\u001b[38;5;33mConv1D\u001b[0m)        │ (\u001b[38;5;45mNone\u001b[0m, \u001b[38;5;34m200\u001b[0m, \u001b[38;5;34m64\u001b[0m)        │         \u001b[38;5;34m12,352\u001b[0m │ add_4[\u001b[38;5;34m0\u001b[0m][\u001b[38;5;34m0\u001b[0m]            │\n",
              "├───────────────────────────┼────────────────────────┼────────────────┼────────────────────────┤\n",
              "│ dropout_14 (\u001b[38;5;33mDropout\u001b[0m)      │ (\u001b[38;5;45mNone\u001b[0m, \u001b[38;5;34m200\u001b[0m, \u001b[38;5;34m64\u001b[0m)        │              \u001b[38;5;34m0\u001b[0m │ conv1d_12[\u001b[38;5;34m0\u001b[0m][\u001b[38;5;34m0\u001b[0m]        │\n",
              "├───────────────────────────┼────────────────────────┼────────────────┼────────────────────────┤\n",
              "│ conv1d_13 (\u001b[38;5;33mConv1D\u001b[0m)        │ (\u001b[38;5;45mNone\u001b[0m, \u001b[38;5;34m200\u001b[0m, \u001b[38;5;34m64\u001b[0m)        │         \u001b[38;5;34m12,352\u001b[0m │ dropout_14[\u001b[38;5;34m0\u001b[0m][\u001b[38;5;34m0\u001b[0m]       │\n",
              "├───────────────────────────┼────────────────────────┼────────────────┼────────────────────────┤\n",
              "│ dropout_15 (\u001b[38;5;33mDropout\u001b[0m)      │ (\u001b[38;5;45mNone\u001b[0m, \u001b[38;5;34m200\u001b[0m, \u001b[38;5;34m64\u001b[0m)        │              \u001b[38;5;34m0\u001b[0m │ conv1d_13[\u001b[38;5;34m0\u001b[0m][\u001b[38;5;34m0\u001b[0m]        │\n",
              "├───────────────────────────┼────────────────────────┼────────────────┼────────────────────────┤\n",
              "│ add_5 (\u001b[38;5;33mAdd\u001b[0m)               │ (\u001b[38;5;45mNone\u001b[0m, \u001b[38;5;34m200\u001b[0m, \u001b[38;5;34m64\u001b[0m)        │              \u001b[38;5;34m0\u001b[0m │ dropout_15[\u001b[38;5;34m0\u001b[0m][\u001b[38;5;34m0\u001b[0m],      │\n",
              "│                           │                        │                │ add_4[\u001b[38;5;34m0\u001b[0m][\u001b[38;5;34m0\u001b[0m]            │\n",
              "├───────────────────────────┼────────────────────────┼────────────────┼────────────────────────┤\n",
              "│ conv1d_14 (\u001b[38;5;33mConv1D\u001b[0m)        │ (\u001b[38;5;45mNone\u001b[0m, \u001b[38;5;34m200\u001b[0m, \u001b[38;5;34m64\u001b[0m)        │         \u001b[38;5;34m12,352\u001b[0m │ add_5[\u001b[38;5;34m0\u001b[0m][\u001b[38;5;34m0\u001b[0m]            │\n",
              "├───────────────────────────┼────────────────────────┼────────────────┼────────────────────────┤\n",
              "│ dropout_16 (\u001b[38;5;33mDropout\u001b[0m)      │ (\u001b[38;5;45mNone\u001b[0m, \u001b[38;5;34m200\u001b[0m, \u001b[38;5;34m64\u001b[0m)        │              \u001b[38;5;34m0\u001b[0m │ conv1d_14[\u001b[38;5;34m0\u001b[0m][\u001b[38;5;34m0\u001b[0m]        │\n",
              "├───────────────────────────┼────────────────────────┼────────────────┼────────────────────────┤\n",
              "│ conv1d_15 (\u001b[38;5;33mConv1D\u001b[0m)        │ (\u001b[38;5;45mNone\u001b[0m, \u001b[38;5;34m200\u001b[0m, \u001b[38;5;34m64\u001b[0m)        │         \u001b[38;5;34m12,352\u001b[0m │ dropout_16[\u001b[38;5;34m0\u001b[0m][\u001b[38;5;34m0\u001b[0m]       │\n",
              "├───────────────────────────┼────────────────────────┼────────────────┼────────────────────────┤\n",
              "│ dropout_17 (\u001b[38;5;33mDropout\u001b[0m)      │ (\u001b[38;5;45mNone\u001b[0m, \u001b[38;5;34m200\u001b[0m, \u001b[38;5;34m64\u001b[0m)        │              \u001b[38;5;34m0\u001b[0m │ conv1d_15[\u001b[38;5;34m0\u001b[0m][\u001b[38;5;34m0\u001b[0m]        │\n",
              "├───────────────────────────┼────────────────────────┼────────────────┼────────────────────────┤\n",
              "│ add_6 (\u001b[38;5;33mAdd\u001b[0m)               │ (\u001b[38;5;45mNone\u001b[0m, \u001b[38;5;34m200\u001b[0m, \u001b[38;5;34m64\u001b[0m)        │              \u001b[38;5;34m0\u001b[0m │ dropout_17[\u001b[38;5;34m0\u001b[0m][\u001b[38;5;34m0\u001b[0m],      │\n",
              "│                           │                        │                │ add_5[\u001b[38;5;34m0\u001b[0m][\u001b[38;5;34m0\u001b[0m]            │\n",
              "├───────────────────────────┼────────────────────────┼────────────────┼────────────────────────┤\n",
              "│ conv1d_16 (\u001b[38;5;33mConv1D\u001b[0m)        │ (\u001b[38;5;45mNone\u001b[0m, \u001b[38;5;34m200\u001b[0m, \u001b[38;5;34m64\u001b[0m)        │         \u001b[38;5;34m12,352\u001b[0m │ add_6[\u001b[38;5;34m0\u001b[0m][\u001b[38;5;34m0\u001b[0m]            │\n",
              "├───────────────────────────┼────────────────────────┼────────────────┼────────────────────────┤\n",
              "│ dropout_18 (\u001b[38;5;33mDropout\u001b[0m)      │ (\u001b[38;5;45mNone\u001b[0m, \u001b[38;5;34m200\u001b[0m, \u001b[38;5;34m64\u001b[0m)        │              \u001b[38;5;34m0\u001b[0m │ conv1d_16[\u001b[38;5;34m0\u001b[0m][\u001b[38;5;34m0\u001b[0m]        │\n",
              "├───────────────────────────┼────────────────────────┼────────────────┼────────────────────────┤\n",
              "│ conv1d_17 (\u001b[38;5;33mConv1D\u001b[0m)        │ (\u001b[38;5;45mNone\u001b[0m, \u001b[38;5;34m200\u001b[0m, \u001b[38;5;34m64\u001b[0m)        │         \u001b[38;5;34m12,352\u001b[0m │ dropout_18[\u001b[38;5;34m0\u001b[0m][\u001b[38;5;34m0\u001b[0m]       │\n",
              "├───────────────────────────┼────────────────────────┼────────────────┼────────────────────────┤\n",
              "│ dropout_19 (\u001b[38;5;33mDropout\u001b[0m)      │ (\u001b[38;5;45mNone\u001b[0m, \u001b[38;5;34m200\u001b[0m, \u001b[38;5;34m64\u001b[0m)        │              \u001b[38;5;34m0\u001b[0m │ conv1d_17[\u001b[38;5;34m0\u001b[0m][\u001b[38;5;34m0\u001b[0m]        │\n",
              "├───────────────────────────┼────────────────────────┼────────────────┼────────────────────────┤\n",
              "│ add_7 (\u001b[38;5;33mAdd\u001b[0m)               │ (\u001b[38;5;45mNone\u001b[0m, \u001b[38;5;34m200\u001b[0m, \u001b[38;5;34m64\u001b[0m)        │              \u001b[38;5;34m0\u001b[0m │ dropout_19[\u001b[38;5;34m0\u001b[0m][\u001b[38;5;34m0\u001b[0m],      │\n",
              "│                           │                        │                │ add_6[\u001b[38;5;34m0\u001b[0m][\u001b[38;5;34m0\u001b[0m]            │\n",
              "├───────────────────────────┼────────────────────────┼────────────────┼────────────────────────┤\n",
              "│ global_average_pooling1d… │ (\u001b[38;5;45mNone\u001b[0m, \u001b[38;5;34m64\u001b[0m)             │              \u001b[38;5;34m0\u001b[0m │ add_7[\u001b[38;5;34m0\u001b[0m][\u001b[38;5;34m0\u001b[0m]            │\n",
              "│ (\u001b[38;5;33mGlobalAveragePooling1D\u001b[0m)  │                        │                │                        │\n",
              "├───────────────────────────┼────────────────────────┼────────────────┼────────────────────────┤\n",
              "│ dense_5 (\u001b[38;5;33mDense\u001b[0m)           │ (\u001b[38;5;45mNone\u001b[0m, \u001b[38;5;34m64\u001b[0m)             │          \u001b[38;5;34m4,160\u001b[0m │ global_average_poolin… │\n",
              "├───────────────────────────┼────────────────────────┼────────────────┼────────────────────────┤\n",
              "│ dropout_20 (\u001b[38;5;33mDropout\u001b[0m)      │ (\u001b[38;5;45mNone\u001b[0m, \u001b[38;5;34m64\u001b[0m)             │              \u001b[38;5;34m0\u001b[0m │ dense_5[\u001b[38;5;34m0\u001b[0m][\u001b[38;5;34m0\u001b[0m]          │\n",
              "├───────────────────────────┼────────────────────────┼────────────────┼────────────────────────┤\n",
              "│ dense_6 (\u001b[38;5;33mDense\u001b[0m)           │ (\u001b[38;5;45mNone\u001b[0m, \u001b[38;5;34m1\u001b[0m)              │             \u001b[38;5;34m65\u001b[0m │ dropout_20[\u001b[38;5;34m0\u001b[0m][\u001b[38;5;34m0\u001b[0m]       │\n",
              "└───────────────────────────┴────────────────────────┴────────────────┴────────────────────────┘\n"
            ],
            "text/html": [
              "<pre style=\"white-space:pre;overflow-x:auto;line-height:normal;font-family:Menlo,'DejaVu Sans Mono',consolas,'Courier New',monospace\">┏━━━━━━━━━━━━━━━━━━━━━━━━━━━┳━━━━━━━━━━━━━━━━━━━━━━━━┳━━━━━━━━━━━━━━━━┳━━━━━━━━━━━━━━━━━━━━━━━━┓\n",
              "┃<span style=\"font-weight: bold\"> Layer (type)              </span>┃<span style=\"font-weight: bold\"> Output Shape           </span>┃<span style=\"font-weight: bold\">        Param # </span>┃<span style=\"font-weight: bold\"> Connected to           </span>┃\n",
              "┡━━━━━━━━━━━━━━━━━━━━━━━━━━━╇━━━━━━━━━━━━━━━━━━━━━━━━╇━━━━━━━━━━━━━━━━╇━━━━━━━━━━━━━━━━━━━━━━━━┩\n",
              "│ input_layer_4             │ (<span style=\"color: #00d7ff; text-decoration-color: #00d7ff\">None</span>, <span style=\"color: #00af00; text-decoration-color: #00af00\">200</span>)            │              <span style=\"color: #00af00; text-decoration-color: #00af00\">0</span> │ -                      │\n",
              "│ (<span style=\"color: #0087ff; text-decoration-color: #0087ff\">InputLayer</span>)              │                        │                │                        │\n",
              "├───────────────────────────┼────────────────────────┼────────────────┼────────────────────────┤\n",
              "│ embedding_4 (<span style=\"color: #0087ff; text-decoration-color: #0087ff\">Embedding</span>)   │ (<span style=\"color: #00d7ff; text-decoration-color: #00d7ff\">None</span>, <span style=\"color: #00af00; text-decoration-color: #00af00\">200</span>, <span style=\"color: #00af00; text-decoration-color: #00af00\">100</span>)       │      <span style=\"color: #00af00; text-decoration-color: #00af00\">1,000,000</span> │ input_layer_4[<span style=\"color: #00af00; text-decoration-color: #00af00\">0</span>][<span style=\"color: #00af00; text-decoration-color: #00af00\">0</span>]    │\n",
              "├───────────────────────────┼────────────────────────┼────────────────┼────────────────────────┤\n",
              "│ conv1d_9 (<span style=\"color: #0087ff; text-decoration-color: #0087ff\">Conv1D</span>)         │ (<span style=\"color: #00d7ff; text-decoration-color: #00d7ff\">None</span>, <span style=\"color: #00af00; text-decoration-color: #00af00\">200</span>, <span style=\"color: #00af00; text-decoration-color: #00af00\">64</span>)        │         <span style=\"color: #00af00; text-decoration-color: #00af00\">19,264</span> │ embedding_4[<span style=\"color: #00af00; text-decoration-color: #00af00\">0</span>][<span style=\"color: #00af00; text-decoration-color: #00af00\">0</span>]      │\n",
              "├───────────────────────────┼────────────────────────┼────────────────┼────────────────────────┤\n",
              "│ dropout_12 (<span style=\"color: #0087ff; text-decoration-color: #0087ff\">Dropout</span>)      │ (<span style=\"color: #00d7ff; text-decoration-color: #00d7ff\">None</span>, <span style=\"color: #00af00; text-decoration-color: #00af00\">200</span>, <span style=\"color: #00af00; text-decoration-color: #00af00\">64</span>)        │              <span style=\"color: #00af00; text-decoration-color: #00af00\">0</span> │ conv1d_9[<span style=\"color: #00af00; text-decoration-color: #00af00\">0</span>][<span style=\"color: #00af00; text-decoration-color: #00af00\">0</span>]         │\n",
              "├───────────────────────────┼────────────────────────┼────────────────┼────────────────────────┤\n",
              "│ conv1d_10 (<span style=\"color: #0087ff; text-decoration-color: #0087ff\">Conv1D</span>)        │ (<span style=\"color: #00d7ff; text-decoration-color: #00d7ff\">None</span>, <span style=\"color: #00af00; text-decoration-color: #00af00\">200</span>, <span style=\"color: #00af00; text-decoration-color: #00af00\">64</span>)        │         <span style=\"color: #00af00; text-decoration-color: #00af00\">12,352</span> │ dropout_12[<span style=\"color: #00af00; text-decoration-color: #00af00\">0</span>][<span style=\"color: #00af00; text-decoration-color: #00af00\">0</span>]       │\n",
              "├───────────────────────────┼────────────────────────┼────────────────┼────────────────────────┤\n",
              "│ dropout_13 (<span style=\"color: #0087ff; text-decoration-color: #0087ff\">Dropout</span>)      │ (<span style=\"color: #00d7ff; text-decoration-color: #00d7ff\">None</span>, <span style=\"color: #00af00; text-decoration-color: #00af00\">200</span>, <span style=\"color: #00af00; text-decoration-color: #00af00\">64</span>)        │              <span style=\"color: #00af00; text-decoration-color: #00af00\">0</span> │ conv1d_10[<span style=\"color: #00af00; text-decoration-color: #00af00\">0</span>][<span style=\"color: #00af00; text-decoration-color: #00af00\">0</span>]        │\n",
              "├───────────────────────────┼────────────────────────┼────────────────┼────────────────────────┤\n",
              "│ conv1d_11 (<span style=\"color: #0087ff; text-decoration-color: #0087ff\">Conv1D</span>)        │ (<span style=\"color: #00d7ff; text-decoration-color: #00d7ff\">None</span>, <span style=\"color: #00af00; text-decoration-color: #00af00\">200</span>, <span style=\"color: #00af00; text-decoration-color: #00af00\">64</span>)        │          <span style=\"color: #00af00; text-decoration-color: #00af00\">6,464</span> │ embedding_4[<span style=\"color: #00af00; text-decoration-color: #00af00\">0</span>][<span style=\"color: #00af00; text-decoration-color: #00af00\">0</span>]      │\n",
              "├───────────────────────────┼────────────────────────┼────────────────┼────────────────────────┤\n",
              "│ add_4 (<span style=\"color: #0087ff; text-decoration-color: #0087ff\">Add</span>)               │ (<span style=\"color: #00d7ff; text-decoration-color: #00d7ff\">None</span>, <span style=\"color: #00af00; text-decoration-color: #00af00\">200</span>, <span style=\"color: #00af00; text-decoration-color: #00af00\">64</span>)        │              <span style=\"color: #00af00; text-decoration-color: #00af00\">0</span> │ dropout_13[<span style=\"color: #00af00; text-decoration-color: #00af00\">0</span>][<span style=\"color: #00af00; text-decoration-color: #00af00\">0</span>],      │\n",
              "│                           │                        │                │ conv1d_11[<span style=\"color: #00af00; text-decoration-color: #00af00\">0</span>][<span style=\"color: #00af00; text-decoration-color: #00af00\">0</span>]        │\n",
              "├───────────────────────────┼────────────────────────┼────────────────┼────────────────────────┤\n",
              "│ conv1d_12 (<span style=\"color: #0087ff; text-decoration-color: #0087ff\">Conv1D</span>)        │ (<span style=\"color: #00d7ff; text-decoration-color: #00d7ff\">None</span>, <span style=\"color: #00af00; text-decoration-color: #00af00\">200</span>, <span style=\"color: #00af00; text-decoration-color: #00af00\">64</span>)        │         <span style=\"color: #00af00; text-decoration-color: #00af00\">12,352</span> │ add_4[<span style=\"color: #00af00; text-decoration-color: #00af00\">0</span>][<span style=\"color: #00af00; text-decoration-color: #00af00\">0</span>]            │\n",
              "├───────────────────────────┼────────────────────────┼────────────────┼────────────────────────┤\n",
              "│ dropout_14 (<span style=\"color: #0087ff; text-decoration-color: #0087ff\">Dropout</span>)      │ (<span style=\"color: #00d7ff; text-decoration-color: #00d7ff\">None</span>, <span style=\"color: #00af00; text-decoration-color: #00af00\">200</span>, <span style=\"color: #00af00; text-decoration-color: #00af00\">64</span>)        │              <span style=\"color: #00af00; text-decoration-color: #00af00\">0</span> │ conv1d_12[<span style=\"color: #00af00; text-decoration-color: #00af00\">0</span>][<span style=\"color: #00af00; text-decoration-color: #00af00\">0</span>]        │\n",
              "├───────────────────────────┼────────────────────────┼────────────────┼────────────────────────┤\n",
              "│ conv1d_13 (<span style=\"color: #0087ff; text-decoration-color: #0087ff\">Conv1D</span>)        │ (<span style=\"color: #00d7ff; text-decoration-color: #00d7ff\">None</span>, <span style=\"color: #00af00; text-decoration-color: #00af00\">200</span>, <span style=\"color: #00af00; text-decoration-color: #00af00\">64</span>)        │         <span style=\"color: #00af00; text-decoration-color: #00af00\">12,352</span> │ dropout_14[<span style=\"color: #00af00; text-decoration-color: #00af00\">0</span>][<span style=\"color: #00af00; text-decoration-color: #00af00\">0</span>]       │\n",
              "├───────────────────────────┼────────────────────────┼────────────────┼────────────────────────┤\n",
              "│ dropout_15 (<span style=\"color: #0087ff; text-decoration-color: #0087ff\">Dropout</span>)      │ (<span style=\"color: #00d7ff; text-decoration-color: #00d7ff\">None</span>, <span style=\"color: #00af00; text-decoration-color: #00af00\">200</span>, <span style=\"color: #00af00; text-decoration-color: #00af00\">64</span>)        │              <span style=\"color: #00af00; text-decoration-color: #00af00\">0</span> │ conv1d_13[<span style=\"color: #00af00; text-decoration-color: #00af00\">0</span>][<span style=\"color: #00af00; text-decoration-color: #00af00\">0</span>]        │\n",
              "├───────────────────────────┼────────────────────────┼────────────────┼────────────────────────┤\n",
              "│ add_5 (<span style=\"color: #0087ff; text-decoration-color: #0087ff\">Add</span>)               │ (<span style=\"color: #00d7ff; text-decoration-color: #00d7ff\">None</span>, <span style=\"color: #00af00; text-decoration-color: #00af00\">200</span>, <span style=\"color: #00af00; text-decoration-color: #00af00\">64</span>)        │              <span style=\"color: #00af00; text-decoration-color: #00af00\">0</span> │ dropout_15[<span style=\"color: #00af00; text-decoration-color: #00af00\">0</span>][<span style=\"color: #00af00; text-decoration-color: #00af00\">0</span>],      │\n",
              "│                           │                        │                │ add_4[<span style=\"color: #00af00; text-decoration-color: #00af00\">0</span>][<span style=\"color: #00af00; text-decoration-color: #00af00\">0</span>]            │\n",
              "├───────────────────────────┼────────────────────────┼────────────────┼────────────────────────┤\n",
              "│ conv1d_14 (<span style=\"color: #0087ff; text-decoration-color: #0087ff\">Conv1D</span>)        │ (<span style=\"color: #00d7ff; text-decoration-color: #00d7ff\">None</span>, <span style=\"color: #00af00; text-decoration-color: #00af00\">200</span>, <span style=\"color: #00af00; text-decoration-color: #00af00\">64</span>)        │         <span style=\"color: #00af00; text-decoration-color: #00af00\">12,352</span> │ add_5[<span style=\"color: #00af00; text-decoration-color: #00af00\">0</span>][<span style=\"color: #00af00; text-decoration-color: #00af00\">0</span>]            │\n",
              "├───────────────────────────┼────────────────────────┼────────────────┼────────────────────────┤\n",
              "│ dropout_16 (<span style=\"color: #0087ff; text-decoration-color: #0087ff\">Dropout</span>)      │ (<span style=\"color: #00d7ff; text-decoration-color: #00d7ff\">None</span>, <span style=\"color: #00af00; text-decoration-color: #00af00\">200</span>, <span style=\"color: #00af00; text-decoration-color: #00af00\">64</span>)        │              <span style=\"color: #00af00; text-decoration-color: #00af00\">0</span> │ conv1d_14[<span style=\"color: #00af00; text-decoration-color: #00af00\">0</span>][<span style=\"color: #00af00; text-decoration-color: #00af00\">0</span>]        │\n",
              "├───────────────────────────┼────────────────────────┼────────────────┼────────────────────────┤\n",
              "│ conv1d_15 (<span style=\"color: #0087ff; text-decoration-color: #0087ff\">Conv1D</span>)        │ (<span style=\"color: #00d7ff; text-decoration-color: #00d7ff\">None</span>, <span style=\"color: #00af00; text-decoration-color: #00af00\">200</span>, <span style=\"color: #00af00; text-decoration-color: #00af00\">64</span>)        │         <span style=\"color: #00af00; text-decoration-color: #00af00\">12,352</span> │ dropout_16[<span style=\"color: #00af00; text-decoration-color: #00af00\">0</span>][<span style=\"color: #00af00; text-decoration-color: #00af00\">0</span>]       │\n",
              "├───────────────────────────┼────────────────────────┼────────────────┼────────────────────────┤\n",
              "│ dropout_17 (<span style=\"color: #0087ff; text-decoration-color: #0087ff\">Dropout</span>)      │ (<span style=\"color: #00d7ff; text-decoration-color: #00d7ff\">None</span>, <span style=\"color: #00af00; text-decoration-color: #00af00\">200</span>, <span style=\"color: #00af00; text-decoration-color: #00af00\">64</span>)        │              <span style=\"color: #00af00; text-decoration-color: #00af00\">0</span> │ conv1d_15[<span style=\"color: #00af00; text-decoration-color: #00af00\">0</span>][<span style=\"color: #00af00; text-decoration-color: #00af00\">0</span>]        │\n",
              "├───────────────────────────┼────────────────────────┼────────────────┼────────────────────────┤\n",
              "│ add_6 (<span style=\"color: #0087ff; text-decoration-color: #0087ff\">Add</span>)               │ (<span style=\"color: #00d7ff; text-decoration-color: #00d7ff\">None</span>, <span style=\"color: #00af00; text-decoration-color: #00af00\">200</span>, <span style=\"color: #00af00; text-decoration-color: #00af00\">64</span>)        │              <span style=\"color: #00af00; text-decoration-color: #00af00\">0</span> │ dropout_17[<span style=\"color: #00af00; text-decoration-color: #00af00\">0</span>][<span style=\"color: #00af00; text-decoration-color: #00af00\">0</span>],      │\n",
              "│                           │                        │                │ add_5[<span style=\"color: #00af00; text-decoration-color: #00af00\">0</span>][<span style=\"color: #00af00; text-decoration-color: #00af00\">0</span>]            │\n",
              "├───────────────────────────┼────────────────────────┼────────────────┼────────────────────────┤\n",
              "│ conv1d_16 (<span style=\"color: #0087ff; text-decoration-color: #0087ff\">Conv1D</span>)        │ (<span style=\"color: #00d7ff; text-decoration-color: #00d7ff\">None</span>, <span style=\"color: #00af00; text-decoration-color: #00af00\">200</span>, <span style=\"color: #00af00; text-decoration-color: #00af00\">64</span>)        │         <span style=\"color: #00af00; text-decoration-color: #00af00\">12,352</span> │ add_6[<span style=\"color: #00af00; text-decoration-color: #00af00\">0</span>][<span style=\"color: #00af00; text-decoration-color: #00af00\">0</span>]            │\n",
              "├───────────────────────────┼────────────────────────┼────────────────┼────────────────────────┤\n",
              "│ dropout_18 (<span style=\"color: #0087ff; text-decoration-color: #0087ff\">Dropout</span>)      │ (<span style=\"color: #00d7ff; text-decoration-color: #00d7ff\">None</span>, <span style=\"color: #00af00; text-decoration-color: #00af00\">200</span>, <span style=\"color: #00af00; text-decoration-color: #00af00\">64</span>)        │              <span style=\"color: #00af00; text-decoration-color: #00af00\">0</span> │ conv1d_16[<span style=\"color: #00af00; text-decoration-color: #00af00\">0</span>][<span style=\"color: #00af00; text-decoration-color: #00af00\">0</span>]        │\n",
              "├───────────────────────────┼────────────────────────┼────────────────┼────────────────────────┤\n",
              "│ conv1d_17 (<span style=\"color: #0087ff; text-decoration-color: #0087ff\">Conv1D</span>)        │ (<span style=\"color: #00d7ff; text-decoration-color: #00d7ff\">None</span>, <span style=\"color: #00af00; text-decoration-color: #00af00\">200</span>, <span style=\"color: #00af00; text-decoration-color: #00af00\">64</span>)        │         <span style=\"color: #00af00; text-decoration-color: #00af00\">12,352</span> │ dropout_18[<span style=\"color: #00af00; text-decoration-color: #00af00\">0</span>][<span style=\"color: #00af00; text-decoration-color: #00af00\">0</span>]       │\n",
              "├───────────────────────────┼────────────────────────┼────────────────┼────────────────────────┤\n",
              "│ dropout_19 (<span style=\"color: #0087ff; text-decoration-color: #0087ff\">Dropout</span>)      │ (<span style=\"color: #00d7ff; text-decoration-color: #00d7ff\">None</span>, <span style=\"color: #00af00; text-decoration-color: #00af00\">200</span>, <span style=\"color: #00af00; text-decoration-color: #00af00\">64</span>)        │              <span style=\"color: #00af00; text-decoration-color: #00af00\">0</span> │ conv1d_17[<span style=\"color: #00af00; text-decoration-color: #00af00\">0</span>][<span style=\"color: #00af00; text-decoration-color: #00af00\">0</span>]        │\n",
              "├───────────────────────────┼────────────────────────┼────────────────┼────────────────────────┤\n",
              "│ add_7 (<span style=\"color: #0087ff; text-decoration-color: #0087ff\">Add</span>)               │ (<span style=\"color: #00d7ff; text-decoration-color: #00d7ff\">None</span>, <span style=\"color: #00af00; text-decoration-color: #00af00\">200</span>, <span style=\"color: #00af00; text-decoration-color: #00af00\">64</span>)        │              <span style=\"color: #00af00; text-decoration-color: #00af00\">0</span> │ dropout_19[<span style=\"color: #00af00; text-decoration-color: #00af00\">0</span>][<span style=\"color: #00af00; text-decoration-color: #00af00\">0</span>],      │\n",
              "│                           │                        │                │ add_6[<span style=\"color: #00af00; text-decoration-color: #00af00\">0</span>][<span style=\"color: #00af00; text-decoration-color: #00af00\">0</span>]            │\n",
              "├───────────────────────────┼────────────────────────┼────────────────┼────────────────────────┤\n",
              "│ global_average_pooling1d… │ (<span style=\"color: #00d7ff; text-decoration-color: #00d7ff\">None</span>, <span style=\"color: #00af00; text-decoration-color: #00af00\">64</span>)             │              <span style=\"color: #00af00; text-decoration-color: #00af00\">0</span> │ add_7[<span style=\"color: #00af00; text-decoration-color: #00af00\">0</span>][<span style=\"color: #00af00; text-decoration-color: #00af00\">0</span>]            │\n",
              "│ (<span style=\"color: #0087ff; text-decoration-color: #0087ff\">GlobalAveragePooling1D</span>)  │                        │                │                        │\n",
              "├───────────────────────────┼────────────────────────┼────────────────┼────────────────────────┤\n",
              "│ dense_5 (<span style=\"color: #0087ff; text-decoration-color: #0087ff\">Dense</span>)           │ (<span style=\"color: #00d7ff; text-decoration-color: #00d7ff\">None</span>, <span style=\"color: #00af00; text-decoration-color: #00af00\">64</span>)             │          <span style=\"color: #00af00; text-decoration-color: #00af00\">4,160</span> │ global_average_poolin… │\n",
              "├───────────────────────────┼────────────────────────┼────────────────┼────────────────────────┤\n",
              "│ dropout_20 (<span style=\"color: #0087ff; text-decoration-color: #0087ff\">Dropout</span>)      │ (<span style=\"color: #00d7ff; text-decoration-color: #00d7ff\">None</span>, <span style=\"color: #00af00; text-decoration-color: #00af00\">64</span>)             │              <span style=\"color: #00af00; text-decoration-color: #00af00\">0</span> │ dense_5[<span style=\"color: #00af00; text-decoration-color: #00af00\">0</span>][<span style=\"color: #00af00; text-decoration-color: #00af00\">0</span>]          │\n",
              "├───────────────────────────┼────────────────────────┼────────────────┼────────────────────────┤\n",
              "│ dense_6 (<span style=\"color: #0087ff; text-decoration-color: #0087ff\">Dense</span>)           │ (<span style=\"color: #00d7ff; text-decoration-color: #00d7ff\">None</span>, <span style=\"color: #00af00; text-decoration-color: #00af00\">1</span>)              │             <span style=\"color: #00af00; text-decoration-color: #00af00\">65</span> │ dropout_20[<span style=\"color: #00af00; text-decoration-color: #00af00\">0</span>][<span style=\"color: #00af00; text-decoration-color: #00af00\">0</span>]       │\n",
              "└───────────────────────────┴────────────────────────┴────────────────┴────────────────────────┘\n",
              "</pre>\n"
            ]
          },
          "metadata": {}
        },
        {
          "output_type": "display_data",
          "data": {
            "text/plain": [
              "\u001b[1m Total params: \u001b[0m\u001b[38;5;34m1,116,417\u001b[0m (4.26 MB)\n"
            ],
            "text/html": [
              "<pre style=\"white-space:pre;overflow-x:auto;line-height:normal;font-family:Menlo,'DejaVu Sans Mono',consolas,'Courier New',monospace\"><span style=\"font-weight: bold\"> Total params: </span><span style=\"color: #00af00; text-decoration-color: #00af00\">1,116,417</span> (4.26 MB)\n",
              "</pre>\n"
            ]
          },
          "metadata": {}
        },
        {
          "output_type": "display_data",
          "data": {
            "text/plain": [
              "\u001b[1m Trainable params: \u001b[0m\u001b[38;5;34m1,116,417\u001b[0m (4.26 MB)\n"
            ],
            "text/html": [
              "<pre style=\"white-space:pre;overflow-x:auto;line-height:normal;font-family:Menlo,'DejaVu Sans Mono',consolas,'Courier New',monospace\"><span style=\"font-weight: bold\"> Trainable params: </span><span style=\"color: #00af00; text-decoration-color: #00af00\">1,116,417</span> (4.26 MB)\n",
              "</pre>\n"
            ]
          },
          "metadata": {}
        },
        {
          "output_type": "display_data",
          "data": {
            "text/plain": [
              "\u001b[1m Non-trainable params: \u001b[0m\u001b[38;5;34m0\u001b[0m (0.00 B)\n"
            ],
            "text/html": [
              "<pre style=\"white-space:pre;overflow-x:auto;line-height:normal;font-family:Menlo,'DejaVu Sans Mono',consolas,'Courier New',monospace\"><span style=\"font-weight: bold\"> Non-trainable params: </span><span style=\"color: #00af00; text-decoration-color: #00af00\">0</span> (0.00 B)\n",
              "</pre>\n"
            ]
          },
          "metadata": {}
        },
        {
          "output_type": "stream",
          "name": "stdout",
          "text": [
            "Epoch 1/5\n",
            "\u001b[1m563/563\u001b[0m \u001b[32m━━━━━━━━━━━━━━━━━━━━\u001b[0m\u001b[37m\u001b[0m \u001b[1m195s\u001b[0m 336ms/step - accuracy: 0.7232 - loss: 0.4871 - val_accuracy: 0.8840 - val_loss: 0.2847\n",
            "Epoch 2/5\n",
            "\u001b[1m563/563\u001b[0m \u001b[32m━━━━━━━━━━━━━━━━━━━━\u001b[0m\u001b[37m\u001b[0m \u001b[1m202s\u001b[0m 337ms/step - accuracy: 0.9174 - loss: 0.2177 - val_accuracy: 0.8848 - val_loss: 0.2777\n",
            "Epoch 3/5\n",
            "\u001b[1m563/563\u001b[0m \u001b[32m━━━━━━━━━━━━━━━━━━━━\u001b[0m\u001b[37m\u001b[0m \u001b[1m201s\u001b[0m 335ms/step - accuracy: 0.9406 - loss: 0.1638 - val_accuracy: 0.8677 - val_loss: 0.3517\n",
            "Epoch 4/5\n",
            "\u001b[1m563/563\u001b[0m \u001b[32m━━━━━━━━━━━━━━━━━━━━\u001b[0m\u001b[37m\u001b[0m \u001b[1m190s\u001b[0m 338ms/step - accuracy: 0.9566 - loss: 0.1219 - val_accuracy: 0.8760 - val_loss: 0.3491\n",
            "Epoch 5/5\n",
            "\u001b[1m563/563\u001b[0m \u001b[32m━━━━━━━━━━━━━━━━━━━━\u001b[0m\u001b[37m\u001b[0m \u001b[1m199s\u001b[0m 333ms/step - accuracy: 0.9745 - loss: 0.0755 - val_accuracy: 0.8760 - val_loss: 0.4343\n"
          ]
        },
        {
          "output_type": "execute_result",
          "data": {
            "text/plain": [
              "<keras.src.callbacks.history.History at 0x7d89bb20d150>"
            ]
          },
          "metadata": {},
          "execution_count": 41
        }
      ]
    },
    {
      "cell_type": "markdown",
      "source": [
        "* Model Summary : Το μοντέλο αποτελείται από ένα Embedding layer, επαναλαμβανόμενα Conv1D layers με Dropout (μέσα στα residual blocks), GlobalAveragePooling1D, ένα Dense layer με ReLU και ένα τελικό Dense layer με sigmoid για την έξοδο. Χρησιμοποιούνται skip connections (Add layers) στα residual blocks. Συνολικά, το μοντέλο έχει 1,116,417 παραμέτρους.\n",
        "\n",
        "* Training History : Η εκπαίδευση σταμάτησε στις 5 εποχές λόγω early stopping. Παρατηρούμε τα εξής:\n",
        "\n",
        "  * Epoch 1: Αρχική ακρίβεια εκπαίδευσης 70.28%, απώλεια 0.5093, ακρίβεια επικύρωσης 88.42% και απώλεια 0.2718.\n",
        "  * Epoch 2: Σημαντική βελτίωση στην ακρίβεια εκπαίδευσης (91.47%) και μείωση της απώλειας (0.2308). Η ακρίβεια επικύρωσης παραμένει περίπου στα ίδια επίπεδα (88.13%).\n",
        "  * Epochs 3-5: Η ακρίβεια εκπαίδευσης συνεχίζει να αυξάνεται, αλλά η ακρίβεια επικύρωσης αρχίζει να μειώνεται και η απώλεια επικύρωσης αυξάνεται. Αυτό είναι ένδειξη υπερπροσαρμογής.\n",
        "*Συνοπτικά: Το TCN δείχνει επίσης σημάδια υπερπροσαρμογής, με το early stopping να σταματά την εκπαίδευση στις 5 εποχές. Η ακρίβεια επικύρωσης φτάνει περίπου το 88% στην πρώτη εποχή και μετά σταθεροποιείται ή μειώνεται ελαφρώς, ενώ η ακρίβεια εκπαίδευσης συνεχίζει να αυξάνεται."
      ],
      "metadata": {
        "id": "PJwy_clg9SZJ"
      }
    },
    {
      "cell_type": "markdown",
      "source": [
        "# Cell 11: TCN Model Evaluation and Predictions"
      ],
      "metadata": {
        "id": "jkcTxAPPZhP8"
      }
    },
    {
      "cell_type": "markdown",
      "source": [
        "Ο κώδικας αξιολογεί το εκπαιδευμένο μοντέλο TCN στα δεδομένα δοκιμής (X_test_seq, y_test) και εκτυπώνει τις ακόλουθες μετρικές:\n",
        "\n",
        "* y_pred_probs = tcn_model.predict(X_test_seq): Προβλέπει πιθανότητες (μεταξύ 0 και 1) για κάθε δείγμα.\n",
        "\n",
        "* y_pred = (y_pred_probs > 0.5).astype(int): Μετατρέπει τις πιθανότητες σε κατηγορίες (0 ή 1).\n",
        "\n",
        "print(...): Εκτυπώνει:\n",
        "\n",
        "  * classification_report: Αναφορά ταξινόμησης (precision, recall, F1-score, support).\n",
        "  * Accuracy: Συνολική ακρίβεια.\n",
        "  * Precision: Ακρίβεια (θετικής κλάσης).\n",
        "  * Recall: Ανάκληση (θετικής κλάσης).\n",
        "  * F1 Score: F1-score (θετικής κλάσης).\n",
        "  * Confusion Matrix: Πίνακα σύγχυσης (TP, TN, FP, FN).\n",
        "  \n",
        "Συνοπτικά: Ο κώδικας προβλέπει κατηγορίες για τα δεδομένα δοκιμής με το TCN και εκτυπώνει μετρικές αξιολόγησης."
      ],
      "metadata": {
        "id": "yNUEaXE0-D-G"
      }
    },
    {
      "cell_type": "code",
      "source": [
        "y_pred_probs = tcn_model.predict(X_test_seq)  # Predict probabilities using the trained TCN model on the test set.\n",
        "\n",
        "y_pred = (y_pred_probs > 0.5).astype(int)  # Convert probabilities to binary predictions (0 or 1).\n",
        "\n",
        "print(\"Evaluation for TCN:\")  # Print a header to indicate the evaluation results for the TCN model.\n",
        "\n",
        "print(classification_report(y_test, y_pred))  # Print a classification report.\n",
        "# This report provides key metrics like precision, recall, F1-score, and support for each class.\n",
        "\n",
        "print(\"Accuracy:\", accuracy_score(y_test, y_pred))  # Calculate and print the accuracy of the model.\n",
        "\n",
        "print(\"Precision:\", precision_score(y_test, y_pred))  # Calculate and print the precision of the model.\n",
        "\n",
        "print(\"Recall:\", recall_score(y_test, y_pred))  # Calculate and print the recall of the model.\n",
        "\n",
        "print(\"F1 Score:\", f1_score(y_test, y_pred))  # Calculate and print the F1-score of the model.\n",
        "\n",
        "print(\"Confusion Matrix:\")  # Print a header for the confusion matrix.\n",
        "\n",
        "print(confusion_matrix(y_test, y_pred))  # Print the confusion matrix.\n",
        "\n",
        "print(\"-\" * 30)  # Print a separator line for better readability."
      ],
      "metadata": {
        "colab": {
          "base_uri": "https://localhost:8080/"
        },
        "id": "3M9Qy07U9Erz",
        "outputId": "60198cf9-637a-45cf-9b5b-4a1b50880669"
      },
      "execution_count": null,
      "outputs": [
        {
          "output_type": "stream",
          "name": "stdout",
          "text": [
            "\u001b[1m313/313\u001b[0m \u001b[32m━━━━━━━━━━━━━━━━━━━━\u001b[0m\u001b[37m\u001b[0m \u001b[1m13s\u001b[0m 41ms/step\n",
            "Evaluation for TCN:\n",
            "              precision    recall  f1-score   support\n",
            "\n",
            "           0       0.89      0.85      0.87      4961\n",
            "           1       0.86      0.90      0.88      5039\n",
            "\n",
            "    accuracy                           0.88     10000\n",
            "   macro avg       0.88      0.87      0.87     10000\n",
            "weighted avg       0.88      0.88      0.87     10000\n",
            "\n",
            "Accuracy: 0.875\n",
            "Precision: 0.8621678455362264\n",
            "Recall: 0.8950188529470133\n",
            "F1 Score: 0.878286270691334\n",
            "Confusion Matrix:\n",
            "[[4240  721]\n",
            " [ 529 4510]]\n",
            "------------------------------\n"
          ]
        }
      ]
    },
    {
      "cell_type": "markdown",
      "source": [
        "Η παρουσίαση των αποτελεσμάτων αξιολόγησης του εκπαιδευμένου μοντέλου TCN, με βάση τις ακόλουθες μετρικές: Accuracy, Precision, Recall και F1-score.\n",
        "\n",
        "Τα αποτελέσματα συνοψίζονται ως εξής:\n",
        "\n",
        "* Accuracy : 0.8746 (87.46%)\n",
        "\n",
        "* Precision :\n",
        "\n",
        "  * Κλάση 0 (Αρνητικές Κριτικές): 0.88\n",
        "  * Κλάση 1 (Θετικές Κριτικές): 0.87\n",
        "* Recall :\n",
        "\n",
        "  * Κλάση 0 (Αρνητικές Κριτικές): 0.87\n",
        "  * Κλάση 1 (Θετικές Κριτικές): 0.88\n",
        "* F1-score :\n",
        "\n",
        "  * Κλάση 0 (Αρνητικές Κριτικές): 0.87\n",
        "  * Κλάση 1 (Θετικές Κριτικές): 0.88"
      ],
      "metadata": {
        "id": "CQGCX5dG_XDK"
      }
    },
    {
      "cell_type": "markdown",
      "source": [
        "# Cell 12: Prediction Functions"
      ],
      "metadata": {
        "id": "TMtO_tE2ZqxQ"
      }
    },
    {
      "cell_type": "markdown",
      "source": [
        "Ο κώδικας σε αυτό το κελί χρησιμοποιεί τις συναρτήσεις predict_sentiment_tfidf και predict_sentiment_seq για να ελέγξει αν τα μοντέλα TF-IDF, LSTM και TCN έχουν εκπαιδευτεί σωστά, προβλέποντας τη συναισθηματική χροιά απλών κειμένων."
      ],
      "metadata": {
        "id": "p7bzxtWZD86F"
      }
    },
    {
      "cell_type": "code",
      "source": [
        "def predict_sentiment_tfidf(text, model, vectorizer):\n",
        "    processed_text = preprocess_text(text)\n",
        "    text_vectorized = vectorizer.transform([processed_text])\n",
        "    prediction = model.predict(text_vectorized)[0]\n",
        "    return \"Positive\" if prediction == 1 else \"Negative\"\n",
        "\n",
        "def predict_sentiment_seq(text, model, tokenizer):\n",
        "    processed_text = preprocess_text(text)\n",
        "    sequence = tokenizer.texts_to_sequences([processed_text])\n",
        "    padded_sequence = pad_sequences(sequence, maxlen=MAX_SEQUENCE_LENGTH, truncating='post')\n",
        "    prediction = (model.predict(padded_sequence) > 0.5).astype(int)[0][0]\n",
        "    return \"Positive\" if prediction == 1 else \"Negative\"\n",
        "\n",
        "# Example usage (using Logistic Regression, Linear SVM, Naive Bayes, LSTM, and TCN)\n",
        "new_review = \"This movie was great it defently needs an oscar\"\n",
        "print(f\"Prediction for: '{new_review}' using Logistic Regression is: {predict_sentiment_tfidf(new_review, classic_models['Logistic Regression'], tfidf_vectorizer)}\")\n",
        "print(f\"Prediction for: '{new_review}' using Linear SVM is: {predict_sentiment_tfidf(new_review, classic_models['Linear SVM'], tfidf_vectorizer)}\")\n",
        "print(f\"Prediction for: '{new_review}' using Naive Bayes is: {predict_sentiment_tfidf(new_review, classic_models['Naive Bayes'], tfidf_vectorizer)}\")\n",
        "print(f\"Prediction for: '{new_review}' using LSTM is: {predict_sentiment_seq(new_review, lstm_model, tokenizer)}\")\n",
        "print(f\"Prediction for: '{new_review}' using TCN is: {predict_sentiment_seq(new_review, tcn_model, tokenizer)}\")\n",
        "\n",
        "new_review = \"The concept was intresting but the actors and the practical effects where awful\"\n",
        "print(f\"Prediction for: '{new_review}' using Logistic Regression is: {predict_sentiment_tfidf(new_review, classic_models['Logistic Regression'], tfidf_vectorizer)}\")\n",
        "print(f\"Prediction for: '{new_review}' using Linear SVM is: {predict_sentiment_tfidf(new_review, classic_models['Linear SVM'], tfidf_vectorizer)}\")\n",
        "print(f\"Prediction for: '{new_review}' using Naive Bayes is: {predict_sentiment_tfidf(new_review, classic_models['Naive Bayes'], tfidf_vectorizer)}\")\n",
        "print(f\"Prediction for: '{new_review}' using LSTM is: {predict_sentiment_seq(new_review, lstm_model, tokenizer)}\")\n",
        "print(f\"Prediction for: '{new_review}' using TCN is: {predict_sentiment_seq(new_review, tcn_model, tokenizer)}\")"
      ],
      "metadata": {
        "colab": {
          "base_uri": "https://localhost:8080/"
        },
        "id": "6hHUzcg79Yx8",
        "outputId": "daebb0f1-454c-4fe1-be74-9528a38c4d21"
      },
      "execution_count": null,
      "outputs": [
        {
          "output_type": "stream",
          "name": "stdout",
          "text": [
            "Prediction for: 'This movie was great it defently needs an oscar' using Logistic Regression is: Positive\n",
            "Prediction for: 'This movie was great it defently needs an oscar' using Linear SVM is: Positive\n",
            "Prediction for: 'This movie was great it defently needs an oscar' using Naive Bayes is: Positive\n",
            "\u001b[1m1/1\u001b[0m \u001b[32m━━━━━━━━━━━━━━━━━━━━\u001b[0m\u001b[37m\u001b[0m \u001b[1m0s\u001b[0m 62ms/step\n",
            "Prediction for: 'This movie was great it defently needs an oscar' using LSTM is: Positive\n",
            "\u001b[1m1/1\u001b[0m \u001b[32m━━━━━━━━━━━━━━━━━━━━\u001b[0m\u001b[37m\u001b[0m \u001b[1m0s\u001b[0m 32ms/step\n",
            "Prediction for: 'This movie was great it defently needs an oscar' using TCN is: Positive\n",
            "Prediction for: 'The concept was intresting but the actors and the practical effects where awful' using Logistic Regression is: Negative\n",
            "Prediction for: 'The concept was intresting but the actors and the practical effects where awful' using Linear SVM is: Negative\n",
            "Prediction for: 'The concept was intresting but the actors and the practical effects where awful' using Naive Bayes is: Negative\n",
            "\u001b[1m1/1\u001b[0m \u001b[32m━━━━━━━━━━━━━━━━━━━━\u001b[0m\u001b[37m\u001b[0m \u001b[1m0s\u001b[0m 78ms/step\n",
            "Prediction for: 'The concept was intresting but the actors and the practical effects where awful' using LSTM is: Negative\n",
            "\u001b[1m1/1\u001b[0m \u001b[32m━━━━━━━━━━━━━━━━━━━━\u001b[0m\u001b[37m\u001b[0m \u001b[1m0s\u001b[0m 38ms/step\n",
            "Prediction for: 'The concept was intresting but the actors and the practical effects where awful' using TCN is: Negative\n"
          ]
        }
      ]
    },
    {
      "cell_type": "markdown",
      "source": [
        "Τα αποτελέσματα είναι όπως αναμενόταν. Όλα τα μοντέλα (Logistic Regression, Linear SVM, Naive Bayes, LSTM και TCN) προβλέπουν σωστά τη θετική πρόταση (\"This movie was great...\") ως \"Positive\" και την αρνητική πρόταση (\"The concept was interesting but...\") ως \"Negative\". Αυτό υποδηλώνει ότι τα μοντέλα έχουν εκπαιδευτεί σωστά, τουλάχιστον σε αυτά τα δύο απλά παραδείγματα."
      ],
      "metadata": {
        "id": "1hiID5PfEnHL"
      }
    },
    {
      "cell_type": "markdown",
      "source": [
        "# Cell 13: Model Performance Visualization"
      ],
      "metadata": {
        "id": "U4Mb96rJGa_X"
      }
    },
    {
      "cell_type": "markdown",
      "source": [
        "Αυτός ο κώδικας παρουσιάζει οπτικά τα αποτελέσματα αξιολόγησης μοντέλων. Τα δεδομένα έχουν εισαχθεί χειροκίνητα, ώστε να μπορείτε να δείτε την μορφή των γραφημάτων χωρίς να χρειάζεται να εκτελέσετε χρονοβόρες εκπαιδεύσεις μοντέλων βαθιάς μάθησης. Χρησιμοποιούμε print για πίνακες μετρικών και plt (με seaborn) για ραβδογράμματα και θερμικούς χάρτες, απεικονίζοντας έτσι την απόδοση των μοντέλων. Αυτό σας δίνει μια γρήγορη εικόνα του πώς θα φαίνονται τα γραφήματα με τα δικά σας δεδομένα, πριν την εκπαίδευση των μοντέλων."
      ],
      "metadata": {
        "id": "NZPPJ7AUGavj"
      }
    },
    {
      "cell_type": "code",
      "source": [
        "import pandas as pd\n",
        "import matplotlib.pyplot as plt\n",
        "import seaborn as sns\n",
        "\n",
        "# Data from your provided evaluations\n",
        "data = {\n",
        "    \"Model\": [\"Logistic Regression\", \"Linear SVM\", \"Naive Bayes\", \"LSTM\", \"TCN\"],\n",
        "    \"Accuracy\": [0.8856, 0.8792, 0.8494, 0.8808, 0.8704],\n",
        "    \"Precision\": [0.8769, 0.8732, 0.8478, 0.8798, 0.9012],\n",
        "    \"Recall\": [0.8992, 0.8895, 0.8545, 0.8843, 0.8343],\n",
        "    \"F1 Score\": [0.8879, 0.8812, 0.8512, 0.8820, 0.8664],\n",
        "    \"Confusion Matrix\": [\n",
        "        [[4325, 636], [508, 4531]],\n",
        "        [[4310, 651], [557, 4482]],\n",
        "        [[4188, 773], [733, 4306]],\n",
        "        [[4352, 609], [583, 4456]],\n",
        "        [[4500, 461], [835, 4204]],\n",
        "    ],\n",
        "}\n",
        "\n",
        "df = pd.DataFrame(data)\n",
        "\n",
        "# 1. Table Representation\n",
        "print(\"Performance Metrics Table:\")\n",
        "print(df[[\"Model\", \"Accuracy\", \"Precision\", \"Recall\", \"F1 Score\"]].to_string(index=False))\n",
        "print(\"\\n\")\n",
        "\n",
        "# 2. Bar Chart for Metrics\n",
        "metrics = [\"Accuracy\", \"Precision\", \"Recall\", \"F1 Score\"]\n",
        "plt.figure(figsize=(10, 6))\n",
        "width = 0.15  # Width of each bar\n",
        "\n",
        "x = range(len(df))\n",
        "for i, metric in enumerate(metrics):\n",
        "    plt.bar([j + i*width for j in x], df[metric], width, label=metric)\n",
        "\n",
        "plt.xticks([j + 1.5*width for j in x], df[\"Model\"], rotation=45, ha='right')\n",
        "plt.ylabel(\"Score\")\n",
        "plt.title(\"Model Performance Comparison\")\n",
        "plt.legend()\n",
        "plt.tight_layout()\n",
        "plt.show()\n",
        "\n",
        "# 3. Heatmaps for Confusion Matrices\n",
        "fig, axes = plt.subplots(2, 3, figsize=(15, 10))  # Adjust layout for 5 plots\n",
        "axes = axes.ravel()  # Flatten the axes array\n",
        "\n",
        "for i, model in enumerate(df[\"Model\"]):\n",
        "    cm = df[\"Confusion Matrix\"][i]\n",
        "    sns.heatmap(cm, annot=True, fmt=\"d\", cmap=\"Blues\", ax=axes[i],\n",
        "                xticklabels=[0, 1], yticklabels=[0, 1])\n",
        "    axes[i].set_title(f\"Confusion Matrix - {model}\")\n",
        "    axes[i].set_xlabel(\"Predicted Label\")\n",
        "    axes[i].set_ylabel(\"True Label\")\n",
        "\n",
        "# Remove extra subplot if only 5 models\n",
        "if len(df[\"Model\"]) < 6:\n",
        "    fig.delaxes(axes[-1])\n",
        "\n",
        "plt.tight_layout()\n",
        "plt.show()"
      ],
      "metadata": {
        "colab": {
          "base_uri": "https://localhost:8080/",
          "height": 1000
        },
        "id": "2lMSDR16DHQa",
        "outputId": "b01a37a0-7d07-4263-d6f3-492512402f3c"
      },
      "execution_count": null,
      "outputs": [
        {
          "output_type": "stream",
          "name": "stdout",
          "text": [
            "Performance Metrics Table:\n",
            "              Model  Accuracy  Precision  Recall  F1 Score\n",
            "Logistic Regression    0.8856     0.8769  0.8992    0.8879\n",
            "         Linear SVM    0.8792     0.8732  0.8895    0.8812\n",
            "        Naive Bayes    0.8494     0.8478  0.8545    0.8512\n",
            "               LSTM    0.8808     0.8798  0.8843    0.8820\n",
            "                TCN    0.8704     0.9012  0.8343    0.8664\n",
            "\n",
            "\n"
          ]
        },
        {
          "output_type": "display_data",
          "data": {
            "text/plain": [
              "<Figure size 1000x600 with 1 Axes>"
            ],
            "image/png": "[encoded data removed]"
          },
          "metadata": {}
        },
        {
          "output_type": "display_data",
          "data": {
            "text/plain": [
              "<Figure size 1500x1000 with 10 Axes>"
            ],
            "image/png": "[encoded data removed]"
          },
          "metadata": {}
        }
      ]
    },
    {
      "cell_type": "markdown",
      "source": [
        "Τα αποτελέσματα δείχνουν:\n",
        "\n",
        "* Logistic Regression, Linear SVM, LSTM: Πολύ καλή και παρόμοια απόδοση, κατάλληλα για το IMDB.\n",
        "* Naive Bayes: Αποδεκτή απόδοση, αλλά υστερεί σε σχέση με τα πιο σύνθετα μοντέλα στο συγκεκριμένο dataset.\n",
        "* TCN: Υψηλό Precision, αλλά χαμηλό Recall, υποδεικνύοντας ότι χάνει αρκετές θετικές κριτικές.\n",
        "\n",
        "Συνοπτικά, τα Logistic Regression, Linear SVM και LSTM είναι οι καλύτερες επιλογές για το IMDB. Το Naive Bayes δείχνει τη χαμηλότερη απόδοση."
      ],
      "metadata": {
        "id": "Qqwiy34YI31u"
      }
    },
    {
      "cell_type": "markdown",
      "source": [
        "# Cell 14:Pre-Trained model DistilBert(not used because of time constraints)"
      ],
      "metadata": {
        "id": "LxFDvcXEJ8RS"
      }
    },
    {
      "cell_type": "markdown",
      "source": [
        "λόγω χρόνου δεν ήταν δυνατό η χρήση pre-trained model παρόλα αυτά αφήνω το παράδειγμα κωδικά χρησιμοποιώ DistilBert παρουσιάστηκε ότι είχε αρκετά μεγάλο ποσοστό ακρίβειας\n",
        "\n",
        "παρόλο που χρησιμοποιήθηκαν 2500 μονό δείγματα χρειαζόταν πάνω από ώρα για να ολοκληρωθεί, ενώ δεν μπορούσε να τρέξει όλοι την βάση στις 5 ώρες περίπου κοβότανε\n",
        "\n",
        "Evaluation:\n",
        "* Accuracy: 0.806\n",
        "* Precision: 0.7637540453074434\n",
        "* Recall: 0.9076923076923077\n",
        "* F1 Score: 0.8295254833040422\n",
        "\t\t\t\t\t precision    recall  f1-score   support\n",
        "\n",
        "\t\t\t\t 0       0.87      0.70      0.77       240\n",
        "\n",
        "\t\t\t\t 1       0.76      0.91      0.83       260\n",
        "\n",
        "\t\t  accuracy                           0.81       500\n",
        "\n",
        "\t\t macro avg       0.82      0.80      0.80       500\n",
        "\n",
        "\t  weighted avg       0.82      0.81      0.80       500\n",
        "  "
      ],
      "metadata": {
        "id": "3qVl7RxFtm-L"
      }
    },
    {
      "cell_type": "code",
      "execution_count": null,
      "metadata": {
        "colab": {
          "base_uri": "https://localhost:8080/",
          "height": 874,
          "referenced_widgets": [
            "89dc95788b8448ff935d63f6afe5758a",
            "ebf8c65c24f844189dbaabeeb35ab708",
            "a111141abb004231a401b6f25d317b85",
            "2b3344cb4ab04c298a58a1d033886cb1",
            "d689349a7d514cdfa4070aeca3721d28",
            "e16d5f8f048c417baa06571dc7b9763b",
            "732d30e15314448184e5014274bd58c0",
            "798fbebe335e4a29ba07772c75a92758",
            "414e03a91cdb4d06adbdfe9d503e5530",
            "a9f90eeb0a6747b097a77b83e283f748",
            "edcc97bd81184b7691aeb35b2a52ff83",
            "dc7ee5f820ed402082a4d9c9b99e6e69",
            "56290be99d2649a69cf3e7810c39ee97",
            "99c0a49c894e4d2d940e5dacf625dae0",
            "1f10268df69a4702a93b9e9292dd014e",
            "f29ff9ff82834bdeae733276a99ecb74",
            "0b1811fb62e44af0b467bdf09f8e031f",
            "0e2e5ad4197e4f7aa9ff9d11dc568a60",
            "fc4ec226ee6d4bd5977d6974cc3ab291",
            "14ef3d83462e449f9bf87fda414ecfb0",
            "51f49ba0682940d3949754966df5e71f",
            "6d3e498f726b4fd18ca34cf3ab15cbe9",
            "a7792cc605d64152baf3f6e49b026245",
            "5c6523227b3c4e82a8b92449f83ea98d",
            "f5f9343319eb40288ed389950202b268",
            "7f93e6df67b14a03a19394312bebdfbc",
            "8b63c81fd6e049e4a8dbb2dea3ec435d",
            "35e17fa64b844ef8ae705c55bd2a5b24",
            "6ebc9cd6998f4e90964424e67537b8d1",
            "2e736477a6d84c198762c2bc06433fa7",
            "1c73f12ef7184ad1a84bcdfe528f0877",
            "9ed1f72c5e5242429579014f0bf850f3",
            "602e398ea0ad49caa18a16142437632e",
            "65ef6d6d8fd5453a9357bf058beac644",
            "72020473e4e242d28723cb82d1106e9a",
            "b707fc1ef93f423080d0872660a11b38",
            "eb1d4202443f4bc5ab26e422f6115250",
            "21dd7abf672e4af7b0df50e26987e2d6",
            "873516d183f5430bb55d8a1b3866ac9c",
            "53aace384ba84f69b17ac6f9f9ded345",
            "e3a44608ee9b446d991e4ad30a0fae0f",
            "fc010e53d5d14d95b4f21fce9d4e8742",
            "42593ad61d684fd59c5660148b23c0ee",
            "685bc5f1a2e54a2faa51835b67258cd6",
            "c7e7969e7e2742ae8189d56507aedd13",
            "df8f048d6f854f27904c3c7f685b9e83",
            "b2c3c921973a4a7f9002e90e95bf4b21",
            "9ffb372c7651465e949cbd91b853ded6",
            "bf6de6c50d9d4bb88a0b80ad6b045c74",
            "ff38412c9a254bd9972a5d3666ef8ed6",
            "cfa9c18922104ba18766b43e328ce2c9",
            "129eb7d23b9a422293463179928ed7c3",
            "e09baa5f7d944032a8d5bcdda44836bc",
            "b002842676fe4d008c001ed46ebe4881",
            "4b68dd430c754a5a97fb6d5492b4f3ac"
          ]
        },
        "id": "CF05Lv2PYpBp",
        "outputId": "c4cc1160-43ec-4601-ea60-5a11d65470a5"
      },
      "outputs": [
        {
          "output_type": "stream",
          "name": "stdout",
          "text": [
            "Using device: cpu\n"
          ]
        },
        {
          "output_type": "stream",
          "name": "stderr",
          "text": [
            "[nltk_data] Downloading package stopwords to /root/nltk_data...\n",
            "[nltk_data]   Package stopwords is already up-to-date!\n",
            "[nltk_data] Downloading package wordnet to /root/nltk_data...\n",
            "[nltk_data]   Package wordnet is already up-to-date!\n",
            "[nltk_data] Downloading package omw-1.4 to /root/nltk_data...\n",
            "[nltk_data]   Package omw-1.4 is already up-to-date!\n",
            "/usr/local/lib/python3.11/dist-packages/huggingface_hub/utils/_auth.py:94: UserWarning: \n",
            "The secret `HF_TOKEN` does not exist in your Colab secrets.\n",
            "To authenticate with the Hugging Face Hub, create a token in your settings tab (https://huggingface.co/settings/tokens), set it as secret in your Google Colab and restart your session.\n",
            "You will be able to reuse this secret in all of your notebooks.\n",
            "Please note that authentication is recommended but still optional to access public models or datasets.\n",
            "  warnings.warn(\n"
          ]
        },
        {
          "output_type": "display_data",
          "data": {
            "text/plain": [
              "tokenizer_config.json:   0%|          | 0.00/48.0 [00:00<?, ?B/s]"
            ],
            "application/vnd.jupyter.widget-view+json": {
              "version_major": 2,
              "version_minor": 0,
              "model_id": "89dc95788b8448ff935d63f6afe5758a"
            }
          },
          "metadata": {}
        },
        {
          "output_type": "display_data",
          "data": {
            "text/plain": [
              "vocab.txt:   0%|          | 0.00/232k [00:00<?, ?B/s]"
            ],
            "application/vnd.jupyter.widget-view+json": {
              "version_major": 2,
              "version_minor": 0,
              "model_id": "dc7ee5f820ed402082a4d9c9b99e6e69"
            }
          },
          "metadata": {}
        },
        {
          "output_type": "display_data",
          "data": {
            "text/plain": [
              "tokenizer.json:   0%|          | 0.00/466k [00:00<?, ?B/s]"
            ],
            "application/vnd.jupyter.widget-view+json": {
              "version_major": 2,
              "version_minor": 0,
              "model_id": "a7792cc605d64152baf3f6e49b026245"
            }
          },
          "metadata": {}
        },
        {
          "output_type": "display_data",
          "data": {
            "text/plain": [
              "config.json:   0%|          | 0.00/483 [00:00<?, ?B/s]"
            ],
            "application/vnd.jupyter.widget-view+json": {
              "version_major": 2,
              "version_minor": 0,
              "model_id": "65ef6d6d8fd5453a9357bf058beac644"
            }
          },
          "metadata": {}
        },
        {
          "output_type": "display_data",
          "data": {
            "text/plain": [
              "model.safetensors:   0%|          | 0.00/268M [00:00<?, ?B/s]"
            ],
            "application/vnd.jupyter.widget-view+json": {
              "version_major": 2,
              "version_minor": 0,
              "model_id": "c7e7969e7e2742ae8189d56507aedd13"
            }
          },
          "metadata": {}
        },
        {
          "output_type": "stream",
          "name": "stderr",
          "text": [
            "Some weights of DistilBertForSequenceClassification were not initialized from the model checkpoint at distilbert-base-uncased and are newly initialized: ['classifier.bias', 'classifier.weight', 'pre_classifier.bias', 'pre_classifier.weight']\n",
            "You should probably TRAIN this model on a down-stream task to be able to use it for predictions and inference.\n",
            "/usr/local/lib/python3.11/dist-packages/transformers/optimization.py:591: FutureWarning: This implementation of AdamW is deprecated and will be removed in a future version. Use the PyTorch implementation torch.optim.AdamW instead, or set `no_deprecation_warning=True` to disable this warning\n",
            "  warnings.warn(\n",
            "<ipython-input-45-3af7c6b47a21>:90: FutureWarning: `torch.cuda.amp.GradScaler(args...)` is deprecated. Please use `torch.amp.GradScaler('cuda', args...)` instead.\n",
            "  scaler = GradScaler()\n",
            "/usr/local/lib/python3.11/dist-packages/torch/amp/grad_scaler.py:132: UserWarning: torch.cuda.amp.GradScaler is enabled, but CUDA is not available.  Disabling.\n",
            "  warnings.warn(\n",
            "<ipython-input-45-3af7c6b47a21>:99: FutureWarning: `torch.cuda.amp.autocast(args...)` is deprecated. Please use `torch.amp.autocast('cuda', args...)` instead.\n",
            "  with autocast():\n",
            "/usr/local/lib/python3.11/dist-packages/torch/amp/autocast_mode.py:266: UserWarning: User provided device_type of 'cuda', but CUDA is not available. Disabling\n",
            "  warnings.warn(\n"
          ]
        },
        {
          "output_type": "stream",
          "name": "stdout",
          "text": [
            "Evaluation:\n",
            "Accuracy: 0.806\n",
            "Precision: 0.7637540453074434\n",
            "Recall: 0.9076923076923077\n",
            "F1 Score: 0.8295254833040422\n",
            "              precision    recall  f1-score   support\n",
            "\n",
            "           0       0.87      0.70      0.77       240\n",
            "           1       0.76      0.91      0.83       260\n",
            "\n",
            "    accuracy                           0.81       500\n",
            "   macro avg       0.82      0.80      0.80       500\n",
            "weighted avg       0.82      0.81      0.80       500\n",
            "\n"
          ]
        }
      ],
      "source": [
        "import pandas as pd\n",
        "import numpy as np\n",
        "import re\n",
        "import nltk\n",
        "from nltk.corpus import stopwords\n",
        "from nltk.stem import WordNetLemmatizer\n",
        "from sklearn.model_selection import train_test_split\n",
        "from sklearn.metrics import classification_report, accuracy_score, precision_score, recall_score, f1_score\n",
        "import emoji\n",
        "\n",
        "import torch\n",
        "from transformers import DistilBertTokenizer, DistilBertForSequenceClassification\n",
        "from torch.utils.data import DataLoader, TensorDataset\n",
        "from transformers import AdamW\n",
        "from torch.cuda.amp import autocast, GradScaler\n",
        "\n",
        "# Check for CUDA availability\n",
        "device = torch.device(\"cuda\" if torch.cuda.is_available() else \"cpu\")\n",
        "print(f\"Using device: {device}\")\n",
        "\n",
        "# Download necessary NLTK resources\n",
        "nltk.download('stopwords')\n",
        "nltk.download('wordnet')\n",
        "nltk.download('omw-1.4')\n",
        "\n",
        "# Load the dataset\n",
        "df = pd.read_csv(\"IMDB Dataset.csv\")\n",
        "\n",
        "# Preprocessing\n",
        "jargon_abbreviations = {\n",
        "    \"oscar-worthy\": \"excellent\",\n",
        "    \"box office hit\": \"successful movie\",\n",
        "    \"cliffhanger\": \"abrupt ending\",\n",
        "    \"prequel\": \"previous movie\",\n",
        "    \"sequel\": \"following movie\",\n",
        "    \"remake\": \"new version\",\n",
        "    \"indie film\": \"independent film\",\n",
        "    \"cgi\": \"computer generated imagery\",\n",
        "    \"vfx\": \"visual effects\",\n",
        "    \"rotfl\": \"rolling on the floor laughing\",\n",
        "    \"lol\": \"laughing out loud\",\n",
        "    \"imo\": \"in my opinion\",\n",
        "    \"tbh\": \"to be honest\",\n",
        "}\n",
        "\n",
        "lemmatizer = WordNetLemmatizer()\n",
        "stop_words = set(stopwords.words('english'))\n",
        "\n",
        "def preprocess_text(text):\n",
        "    text = re.sub(r'<[^>]+>', '', text)\n",
        "    text = re.sub(r'http\\S+|www\\S+|https\\S+', '', text)\n",
        "    text = re.sub(r'[^a-zA-Z\\s]', '', text)\n",
        "    text = text.lower()\n",
        "    text = emoji.replace_emoji(text, replace=\" \")\n",
        "    words = [jargon_abbreviations.get(word, word) for word in text.split()]\n",
        "    words = [lemmatizer.lemmatize(word) for word in words if word not in stop_words]\n",
        "    return \" \".join(words)\n",
        "\n",
        "df['review'] = df['review'].apply(preprocess_text)\n",
        "\n",
        "# Limit data to 2500 samples\n",
        "df_limited = df.sample(2500, random_state=42).reset_index(drop=True) # Reset index after sampling\n",
        "y_limited = df_limited['sentiment'].map({'positive': 1, 'negative': 0})\n",
        "\n",
        "# Tokenization\n",
        "batch_tokenizer = DistilBertTokenizer.from_pretrained('distilbert-base-uncased')\n",
        "encoded_data = batch_tokenizer.batch_encode_plus(\n",
        "    df_limited['review'].tolist(),\n",
        "    add_special_tokens=True,\n",
        "    max_length=128,\n",
        "    padding='max_length',\n",
        "    truncation=True,\n",
        "    return_tensors='pt'\n",
        ")\n",
        "\n",
        "input_ids, attention_masks = encoded_data['input_ids'], encoded_data['attention_mask']\n",
        "labels = torch.tensor(y_limited.values)\n",
        "\n",
        "X_train_ids, X_test_ids, y_train, y_test = train_test_split(input_ids, labels, test_size=0.2, random_state=42)\n",
        "X_train_masks, X_test_masks, _, _ = train_test_split(attention_masks, labels, test_size=0.2, random_state=42)\n",
        "\n",
        "batch_size = 32 # Reduced batch size to fit in memory more easily with smaller dataset\n",
        "train_dataset = TensorDataset(X_train_ids, X_train_masks, y_train)\n",
        "train_dataloader = DataLoader(train_dataset, batch_size=batch_size, shuffle=True)\n",
        "test_dataset = TensorDataset(X_test_ids, X_test_masks, y_test)\n",
        "test_dataloader = DataLoader(test_dataset, batch_size=batch_size)\n",
        "\n",
        "model = DistilBertForSequenceClassification.from_pretrained('distilbert-base-uncased', num_labels=2).to(device)\n",
        "optimizer = AdamW(model.parameters(), lr=3e-5)\n",
        "scaler = GradScaler()\n",
        "epochs = 3\n",
        "\n",
        "# Training with Mixed Precision\n",
        "for epoch in range(epochs):\n",
        "    model.train()\n",
        "    for i, batch in enumerate(train_dataloader):\n",
        "        input_ids, attention_mask, labels = [x.to(device) for x in batch]\n",
        "        optimizer.zero_grad()\n",
        "        with autocast():\n",
        "            outputs = model(input_ids, attention_mask=attention_mask, labels=labels)\n",
        "            loss = outputs.loss\n",
        "        scaler.scale(loss).backward()\n",
        "        scaler.step(optimizer)\n",
        "        scaler.update()\n",
        "\n",
        "# Evaluation\n",
        "model.eval()\n",
        "y_pred = []\n",
        "with torch.no_grad():\n",
        "    for batch in test_dataloader:\n",
        "        input_ids, attention_mask, _ = [x.to(device) for x in batch]\n",
        "        outputs = model(input_ids, attention_mask=attention_mask)\n",
        "        predictions = torch.argmax(outputs.logits, dim=-1)\n",
        "        y_pred.extend(predictions.cpu().numpy())\n",
        "\n",
        "y_true = y_test.cpu().numpy()\n",
        "print(\"Evaluation:\")\n",
        "print(\"Accuracy:\", accuracy_score(y_true, y_pred))\n",
        "print(\"Precision:\", precision_score(y_true, y_pred))\n",
        "print(\"Recall:\", recall_score(y_true, y_pred))\n",
        "print(\"F1 Score:\", f1_score(y_true, y_pred))\n",
        "print(classification_report(y_true, y_pred))"
      ]
    }
  ],
  "metadata": {
    "colab": {
      "provenance": [],
      "collapsed_sections": [
        "SB2sVbWCMjL0",
        "VyKdTq4JM2Tq",
        "ApMor3qSM_xm",
        "7jiLspYgNsaR",
        "2A36ASm5QtaD",
        "A72PDVnpQnT7",
        "KH4xguFiRRYi",
        "j4pkEcoJTpfp",
        "TMtO_tE2ZqxQ",
        "U4Mb96rJGa_X"
      ],
      "toc_visible": true,
      "authorship_tag": "ABX9TyP7ecxfBIMZRHYsNP92SRlH",
      "include_colab_link": true
    },
    "kernelspec": {
      "display_name": "Python 3",
      "name": "python3"
    },
    "language_info": {
      "name": "python"
    },
    "widgets": {
      "application/vnd.jupyter.widget-state+json": {
        "89dc95788b8448ff935d63f6afe5758a": {
          "model_module": "@jupyter-widgets/controls",
          "model_name": "HBoxModel",
          "model_module_version": "1.5.0",
          "state": {
            "_dom_classes": [],
            "_model_module": "@jupyter-widgets/controls",
            "_model_module_version": "1.5.0",
            "_model_name": "HBoxModel",
            "_view_count": null,
            "_view_module": "@jupyter-widgets/controls",
            "_view_module_version": "1.5.0",
            "_view_name": "HBoxView",
            "box_style": "",
            "children": [
              "IPY_MODEL_ebf8c65c24f844189dbaabeeb35ab708",
              "IPY_MODEL_a111141abb004231a401b6f25d317b85",
              "IPY_MODEL_2b3344cb4ab04c298a58a1d033886cb1"
            ],
            "layout": "IPY_MODEL_d689349a7d514cdfa4070aeca3721d28"
          }
        },
        "ebf8c65c24f844189dbaabeeb35ab708": {
          "model_module": "@jupyter-widgets/controls",
          "model_name": "HTMLModel",
          "model_module_version": "1.5.0",
          "state": {
            "_dom_classes": [],
            "_model_module": "@jupyter-widgets/controls",
            "_model_module_version": "1.5.0",
            "_model_name": "HTMLModel",
            "_view_count": null,
            "_view_module": "@jupyter-widgets/controls",
            "_view_module_version": "1.5.0",
            "_view_name": "HTMLView",
            "description": "",
            "description_tooltip": null,
            "layout": "IPY_MODEL_e16d5f8f048c417baa06571dc7b9763b",
            "placeholder": "​",
            "style": "IPY_MODEL_732d30e15314448184e5014274bd58c0",
            "value": "tokenizer_config.json: 100%"
          }
        },
        "a111141abb004231a401b6f25d317b85": {
          "model_module": "@jupyter-widgets/controls",
          "model_name": "FloatProgressModel",
          "model_module_version": "1.5.0",
          "state": {
            "_dom_classes": [],
            "_model_module": "@jupyter-widgets/controls",
            "_model_module_version": "1.5.0",
            "_model_name": "FloatProgressModel",
            "_view_count": null,
            "_view_module": "@jupyter-widgets/controls",
            "_view_module_version": "1.5.0",
            "_view_name": "ProgressView",
            "bar_style": "success",
            "description": "",
            "description_tooltip": null,
            "layout": "IPY_MODEL_798fbebe335e4a29ba07772c75a92758",
            "max": 48,
            "min": 0,
            "orientation": "horizontal",
            "style": "IPY_MODEL_414e03a91cdb4d06adbdfe9d503e5530",
            "value": 48
          }
        },
        "2b3344cb4ab04c298a58a1d033886cb1": {
          "model_module": "@jupyter-widgets/controls",
          "model_name": "HTMLModel",
          "model_module_version": "1.5.0",
          "state": {
            "_dom_classes": [],
            "_model_module": "@jupyter-widgets/controls",
            "_model_module_version": "1.5.0",
            "_model_name": "HTMLModel",
            "_view_count": null,
            "_view_module": "@jupyter-widgets/controls",
            "_view_module_version": "1.5.0",
            "_view_name": "HTMLView",
            "description": "",
            "description_tooltip": null,
            "layout": "IPY_MODEL_a9f90eeb0a6747b097a77b83e283f748",
            "placeholder": "​",
            "style": "IPY_MODEL_edcc97bd81184b7691aeb35b2a52ff83",
            "value": " 48.0/48.0 [00:00&lt;00:00, 3.12kB/s]"
          }
        },
        "d689349a7d514cdfa4070aeca3721d28": {
          "model_module": "@jupyter-widgets/base",
          "model_name": "LayoutModel",
          "model_module_version": "1.2.0",
          "state": {
            "_model_module": "@jupyter-widgets/base",
            "_model_module_version": "1.2.0",
            "_model_name": "LayoutModel",
            "_view_count": null,
            "_view_module": "@jupyter-widgets/base",
            "_view_module_version": "1.2.0",
            "_view_name": "LayoutView",
            "align_content": null,
            "align_items": null,
            "align_self": null,
            "border": null,
            "bottom": null,
            "display": null,
            "flex": null,
            "flex_flow": null,
            "grid_area": null,
            "grid_auto_columns": null,
            "grid_auto_flow": null,
            "grid_auto_rows": null,
            "grid_column": null,
            "grid_gap": null,
            "grid_row": null,
            "grid_template_areas": null,
            "grid_template_columns": null,
            "grid_template_rows": null,
            "height": null,
            "justify_content": null,
            "justify_items": null,
            "left": null,
            "margin": null,
            "max_height": null,
            "max_width": null,
            "min_height": null,
            "min_width": null,
            "object_fit": null,
            "object_position": null,
            "order": null,
            "overflow": null,
            "overflow_x": null,
            "overflow_y": null,
            "padding": null,
            "right": null,
            "top": null,
            "visibility": null,
            "width": null
          }
        },
        "e16d5f8f048c417baa06571dc7b9763b": {
          "model_module": "@jupyter-widgets/base",
          "model_name": "LayoutModel",
          "model_module_version": "1.2.0",
          "state": {
            "_model_module": "@jupyter-widgets/base",
            "_model_module_version": "1.2.0",
            "_model_name": "LayoutModel",
            "_view_count": null,
            "_view_module": "@jupyter-widgets/base",
            "_view_module_version": "1.2.0",
            "_view_name": "LayoutView",
            "align_content": null,
            "align_items": null,
            "align_self": null,
            "border": null,
            "bottom": null,
            "display": null,
            "flex": null,
            "flex_flow": null,
            "grid_area": null,
            "grid_auto_columns": null,
            "grid_auto_flow": null,
            "grid_auto_rows": null,
            "grid_column": null,
            "grid_gap": null,
            "grid_row": null,
            "grid_template_areas": null,
            "grid_template_columns": null,
            "grid_template_rows": null,
            "height": null,
            "justify_content": null,
            "justify_items": null,
            "left": null,
            "margin": null,
            "max_height": null,
            "max_width": null,
            "min_height": null,
            "min_width": null,
            "object_fit": null,
            "object_position": null,
            "order": null,
            "overflow": null,
            "overflow_x": null,
            "overflow_y": null,
            "padding": null,
            "right": null,
            "top": null,
            "visibility": null,
            "width": null
          }
        },
        "732d30e15314448184e5014274bd58c0": {
          "model_module": "@jupyter-widgets/controls",
          "model_name": "DescriptionStyleModel",
          "model_module_version": "1.5.0",
          "state": {
            "_model_module": "@jupyter-widgets/controls",
            "_model_module_version": "1.5.0",
            "_model_name": "DescriptionStyleModel",
            "_view_count": null,
            "_view_module": "@jupyter-widgets/base",
            "_view_module_version": "1.2.0",
            "_view_name": "StyleView",
            "description_width": ""
          }
        },
        "798fbebe335e4a29ba07772c75a92758": {
          "model_module": "@jupyter-widgets/base",
          "model_name": "LayoutModel",
          "model_module_version": "1.2.0",
          "state": {
            "_model_module": "@jupyter-widgets/base",
            "_model_module_version": "1.2.0",
            "_model_name": "LayoutModel",
            "_view_count": null,
            "_view_module": "@jupyter-widgets/base",
            "_view_module_version": "1.2.0",
            "_view_name": "LayoutView",
            "align_content": null,
            "align_items": null,
            "align_self": null,
            "border": null,
            "bottom": null,
            "display": null,
            "flex": null,
            "flex_flow": null,
            "grid_area": null,
            "grid_auto_columns": null,
            "grid_auto_flow": null,
            "grid_auto_rows": null,
            "grid_column": null,
            "grid_gap": null,
            "grid_row": null,
            "grid_template_areas": null,
            "grid_template_columns": null,
            "grid_template_rows": null,
            "height": null,
            "justify_content": null,
            "justify_items": null,
            "left": null,
            "margin": null,
            "max_height": null,
            "max_width": null,
            "min_height": null,
            "min_width": null,
            "object_fit": null,
            "object_position": null,
            "order": null,
            "overflow": null,
            "overflow_x": null,
            "overflow_y": null,
            "padding": null,
            "right": null,
            "top": null,
            "visibility": null,
            "width": null
          }
        },
        "414e03a91cdb4d06adbdfe9d503e5530": {
          "model_module": "@jupyter-widgets/controls",
          "model_name": "ProgressStyleModel",
          "model_module_version": "1.5.0",
          "state": {
            "_model_module": "@jupyter-widgets/controls",
            "_model_module_version": "1.5.0",
            "_model_name": "ProgressStyleModel",
            "_view_count": null,
            "_view_module": "@jupyter-widgets/base",
            "_view_module_version": "1.2.0",
            "_view_name": "StyleView",
            "bar_color": null,
            "description_width": ""
          }
        },
        "a9f90eeb0a6747b097a77b83e283f748": {
          "model_module": "@jupyter-widgets/base",
          "model_name": "LayoutModel",
          "model_module_version": "1.2.0",
          "state": {
            "_model_module": "@jupyter-widgets/base",
            "_model_module_version": "1.2.0",
            "_model_name": "LayoutModel",
            "_view_count": null,
            "_view_module": "@jupyter-widgets/base",
            "_view_module_version": "1.2.0",
            "_view_name": "LayoutView",
            "align_content": null,
            "align_items": null,
            "align_self": null,
            "border": null,
            "bottom": null,
            "display": null,
            "flex": null,
            "flex_flow": null,
            "grid_area": null,
            "grid_auto_columns": null,
            "grid_auto_flow": null,
            "grid_auto_rows": null,
            "grid_column": null,
            "grid_gap": null,
            "grid_row": null,
            "grid_template_areas": null,
            "grid_template_columns": null,
            "grid_template_rows": null,
            "height": null,
            "justify_content": null,
            "justify_items": null,
            "left": null,
            "margin": null,
            "max_height": null,
            "max_width": null,
            "min_height": null,
            "min_width": null,
            "object_fit": null,
            "object_position": null,
            "order": null,
            "overflow": null,
            "overflow_x": null,
            "overflow_y": null,
            "padding": null,
            "right": null,
            "top": null,
            "visibility": null,
            "width": null
          }
        },
        "edcc97bd81184b7691aeb35b2a52ff83": {
          "model_module": "@jupyter-widgets/controls",
          "model_name": "DescriptionStyleModel",
          "model_module_version": "1.5.0",
          "state": {
            "_model_module": "@jupyter-widgets/controls",
            "_model_module_version": "1.5.0",
            "_model_name": "DescriptionStyleModel",
            "_view_count": null,
            "_view_module": "@jupyter-widgets/base",
            "_view_module_version": "1.2.0",
            "_view_name": "StyleView",
            "description_width": ""
          }
        },
        "dc7ee5f820ed402082a4d9c9b99e6e69": {
          "model_module": "@jupyter-widgets/controls",
          "model_name": "HBoxModel",
          "model_module_version": "1.5.0",
          "state": {
            "_dom_classes": [],
            "_model_module": "@jupyter-widgets/controls",
            "_model_module_version": "1.5.0",
            "_model_name": "HBoxModel",
            "_view_count": null,
            "_view_module": "@jupyter-widgets/controls",
            "_view_module_version": "1.5.0",
            "_view_name": "HBoxView",
            "box_style": "",
            "children": [
              "IPY_MODEL_56290be99d2649a69cf3e7810c39ee97",
              "IPY_MODEL_99c0a49c894e4d2d940e5dacf625dae0",
              "IPY_MODEL_1f10268df69a4702a93b9e9292dd014e"
            ],
            "layout": "IPY_MODEL_f29ff9ff82834bdeae733276a99ecb74"
          }
        },
        "56290be99d2649a69cf3e7810c39ee97": {
          "model_module": "@jupyter-widgets/controls",
          "model_name": "HTMLModel",
          "model_module_version": "1.5.0",
          "state": {
            "_dom_classes": [],
            "_model_module": "@jupyter-widgets/controls",
            "_model_module_version": "1.5.0",
            "_model_name": "HTMLModel",
            "_view_count": null,
            "_view_module": "@jupyter-widgets/controls",
            "_view_module_version": "1.5.0",
            "_view_name": "HTMLView",
            "description": "",
            "description_tooltip": null,
            "layout": "IPY_MODEL_0b1811fb62e44af0b467bdf09f8e031f",
            "placeholder": "​",
            "style": "IPY_MODEL_0e2e5ad4197e4f7aa9ff9d11dc568a60",
            "value": "vocab.txt: 100%"
          }
        },
        "99c0a49c894e4d2d940e5dacf625dae0": {
          "model_module": "@jupyter-widgets/controls",
          "model_name": "FloatProgressModel",
          "model_module_version": "1.5.0",
          "state": {
            "_dom_classes": [],
            "_model_module": "@jupyter-widgets/controls",
            "_model_module_version": "1.5.0",
            "_model_name": "FloatProgressModel",
            "_view_count": null,
            "_view_module": "@jupyter-widgets/controls",
            "_view_module_version": "1.5.0",
            "_view_name": "ProgressView",
            "bar_style": "success",
            "description": "",
            "description_tooltip": null,
            "layout": "IPY_MODEL_fc4ec226ee6d4bd5977d6974cc3ab291",
            "max": 231508,
            "min": 0,
            "orientation": "horizontal",
            "style": "IPY_MODEL_14ef3d83462e449f9bf87fda414ecfb0",
            "value": 231508
          }
        },
        "1f10268df69a4702a93b9e9292dd014e": {
          "model_module": "@jupyter-widgets/controls",
          "model_name": "HTMLModel",
          "model_module_version": "1.5.0",
          "state": {
            "_dom_classes": [],
            "_model_module": "@jupyter-widgets/controls",
            "_model_module_version": "1.5.0",
            "_model_name": "HTMLModel",
            "_view_count": null,
            "_view_module": "@jupyter-widgets/controls",
            "_view_module_version": "1.5.0",
            "_view_name": "HTMLView",
            "description": "",
            "description_tooltip": null,
            "layout": "IPY_MODEL_51f49ba0682940d3949754966df5e71f",
            "placeholder": "​",
            "style": "IPY_MODEL_6d3e498f726b4fd18ca34cf3ab15cbe9",
            "value": " 232k/232k [00:00&lt;00:00, 8.74MB/s]"
          }
        },
        "f29ff9ff82834bdeae733276a99ecb74": {
          "model_module": "@jupyter-widgets/base",
          "model_name": "LayoutModel",
          "model_module_version": "1.2.0",
          "state": {
            "_model_module": "@jupyter-widgets/base",
            "_model_module_version": "1.2.0",
            "_model_name": "LayoutModel",
            "_view_count": null,
            "_view_module": "@jupyter-widgets/base",
            "_view_module_version": "1.2.0",
            "_view_name": "LayoutView",
            "align_content": null,
            "align_items": null,
            "align_self": null,
            "border": null,
            "bottom": null,
            "display": null,
            "flex": null,
            "flex_flow": null,
            "grid_area": null,
            "grid_auto_columns": null,
            "grid_auto_flow": null,
            "grid_auto_rows": null,
            "grid_column": null,
            "grid_gap": null,
            "grid_row": null,
            "grid_template_areas": null,
            "grid_template_columns": null,
            "grid_template_rows": null,
            "height": null,
            "justify_content": null,
            "justify_items": null,
            "left": null,
            "margin": null,
            "max_height": null,
            "max_width": null,
            "min_height": null,
            "min_width": null,
            "object_fit": null,
            "object_position": null,
            "order": null,
            "overflow": null,
            "overflow_x": null,
            "overflow_y": null,
            "padding": null,
            "right": null,
            "top": null,
            "visibility": null,
            "width": null
          }
        },
        "0b1811fb62e44af0b467bdf09f8e031f": {
          "model_module": "@jupyter-widgets/base",
          "model_name": "LayoutModel",
          "model_module_version": "1.2.0",
          "state": {
            "_model_module": "@jupyter-widgets/base",
            "_model_module_version": "1.2.0",
            "_model_name": "LayoutModel",
            "_view_count": null,
            "_view_module": "@jupyter-widgets/base",
            "_view_module_version": "1.2.0",
            "_view_name": "LayoutView",
            "align_content": null,
            "align_items": null,
            "align_self": null,
            "border": null,
            "bottom": null,
            "display": null,
            "flex": null,
            "flex_flow": null,
            "grid_area": null,
            "grid_auto_columns": null,
            "grid_auto_flow": null,
            "grid_auto_rows": null,
            "grid_column": null,
            "grid_gap": null,
            "grid_row": null,
            "grid_template_areas": null,
            "grid_template_columns": null,
            "grid_template_rows": null,
            "height": null,
            "justify_content": null,
            "justify_items": null,
            "left": null,
            "margin": null,
            "max_height": null,
            "max_width": null,
            "min_height": null,
            "min_width": null,
            "object_fit": null,
            "object_position": null,
            "order": null,
            "overflow": null,
            "overflow_x": null,
            "overflow_y": null,
            "padding": null,
            "right": null,
            "top": null,
            "visibility": null,
            "width": null
          }
        },
        "0e2e5ad4197e4f7aa9ff9d11dc568a60": {
          "model_module": "@jupyter-widgets/controls",
          "model_name": "DescriptionStyleModel",
          "model_module_version": "1.5.0",
          "state": {
            "_model_module": "@jupyter-widgets/controls",
            "_model_module_version": "1.5.0",
            "_model_name": "DescriptionStyleModel",
            "_view_count": null,
            "_view_module": "@jupyter-widgets/base",
            "_view_module_version": "1.2.0",
            "_view_name": "StyleView",
            "description_width": ""
          }
        },
        "fc4ec226ee6d4bd5977d6974cc3ab291": {
          "model_module": "@jupyter-widgets/base",
          "model_name": "LayoutModel",
          "model_module_version": "1.2.0",
          "state": {
            "_model_module": "@jupyter-widgets/base",
            "_model_module_version": "1.2.0",
            "_model_name": "LayoutModel",
            "_view_count": null,
            "_view_module": "@jupyter-widgets/base",
            "_view_module_version": "1.2.0",
            "_view_name": "LayoutView",
            "align_content": null,
            "align_items": null,
            "align_self": null,
            "border": null,
            "bottom": null,
            "display": null,
            "flex": null,
            "flex_flow": null,
            "grid_area": null,
            "grid_auto_columns": null,
            "grid_auto_flow": null,
            "grid_auto_rows": null,
            "grid_column": null,
            "grid_gap": null,
            "grid_row": null,
            "grid_template_areas": null,
            "grid_template_columns": null,
            "grid_template_rows": null,
            "height": null,
            "justify_content": null,
            "justify_items": null,
            "left": null,
            "margin": null,
            "max_height": null,
            "max_width": null,
            "min_height": null,
            "min_width": null,
            "object_fit": null,
            "object_position": null,
            "order": null,
            "overflow": null,
            "overflow_x": null,
            "overflow_y": null,
            "padding": null,
            "right": null,
            "top": null,
            "visibility": null,
            "width": null
          }
        },
        "14ef3d83462e449f9bf87fda414ecfb0": {
          "model_module": "@jupyter-widgets/controls",
          "model_name": "ProgressStyleModel",
          "model_module_version": "1.5.0",
          "state": {
            "_model_module": "@jupyter-widgets/controls",
            "_model_module_version": "1.5.0",
            "_model_name": "ProgressStyleModel",
            "_view_count": null,
            "_view_module": "@jupyter-widgets/base",
            "_view_module_version": "1.2.0",
            "_view_name": "StyleView",
            "bar_color": null,
            "description_width": ""
          }
        },
        "51f49ba0682940d3949754966df5e71f": {
          "model_module": "@jupyter-widgets/base",
          "model_name": "LayoutModel",
          "model_module_version": "1.2.0",
          "state": {
            "_model_module": "@jupyter-widgets/base",
            "_model_module_version": "1.2.0",
            "_model_name": "LayoutModel",
            "_view_count": null,
            "_view_module": "@jupyter-widgets/base",
            "_view_module_version": "1.2.0",
            "_view_name": "LayoutView",
            "align_content": null,
            "align_items": null,
            "align_self": null,
            "border": null,
            "bottom": null,
            "display": null,
            "flex": null,
            "flex_flow": null,
            "grid_area": null,
            "grid_auto_columns": null,
            "grid_auto_flow": null,
            "grid_auto_rows": null,
            "grid_column": null,
            "grid_gap": null,
            "grid_row": null,
            "grid_template_areas": null,
            "grid_template_columns": null,
            "grid_template_rows": null,
            "height": null,
            "justify_content": null,
            "justify_items": null,
            "left": null,
            "margin": null,
            "max_height": null,
            "max_width": null,
            "min_height": null,
            "min_width": null,
            "object_fit": null,
            "object_position": null,
            "order": null,
            "overflow": null,
            "overflow_x": null,
            "overflow_y": null,
            "padding": null,
            "right": null,
            "top": null,
            "visibility": null,
            "width": null
          }
        },
        "6d3e498f726b4fd18ca34cf3ab15cbe9": {
          "model_module": "@jupyter-widgets/controls",
          "model_name": "DescriptionStyleModel",
          "model_module_version": "1.5.0",
          "state": {
            "_model_module": "@jupyter-widgets/controls",
            "_model_module_version": "1.5.0",
            "_model_name": "DescriptionStyleModel",
            "_view_count": null,
            "_view_module": "@jupyter-widgets/base",
            "_view_module_version": "1.2.0",
            "_view_name": "StyleView",
            "description_width": ""
          }
        },
        "a7792cc605d64152baf3f6e49b026245": {
          "model_module": "@jupyter-widgets/controls",
          "model_name": "HBoxModel",
          "model_module_version": "1.5.0",
          "state": {
            "_dom_classes": [],
            "_model_module": "@jupyter-widgets/controls",
            "_model_module_version": "1.5.0",
            "_model_name": "HBoxModel",
            "_view_count": null,
            "_view_module": "@jupyter-widgets/controls",
            "_view_module_version": "1.5.0",
            "_view_name": "HBoxView",
            "box_style": "",
            "children": [
              "IPY_MODEL_5c6523227b3c4e82a8b92449f83ea98d",
              "IPY_MODEL_f5f9343319eb40288ed389950202b268",
              "IPY_MODEL_7f93e6df67b14a03a19394312bebdfbc"
            ],
            "layout": "IPY_MODEL_8b63c81fd6e049e4a8dbb2dea3ec435d"
          }
        },
        "5c6523227b3c4e82a8b92449f83ea98d": {
          "model_module": "@jupyter-widgets/controls",
          "model_name": "HTMLModel",
          "model_module_version": "1.5.0",
          "state": {
            "_dom_classes": [],
            "_model_module": "@jupyter-widgets/controls",
            "_model_module_version": "1.5.0",
            "_model_name": "HTMLModel",
            "_view_count": null,
            "_view_module": "@jupyter-widgets/controls",
            "_view_module_version": "1.5.0",
            "_view_name": "HTMLView",
            "description": "",
            "description_tooltip": null,
            "layout": "IPY_MODEL_35e17fa64b844ef8ae705c55bd2a5b24",
            "placeholder": "​",
            "style": "IPY_MODEL_6ebc9cd6998f4e90964424e67537b8d1",
            "value": "tokenizer.json: 100%"
          }
        },
        "f5f9343319eb40288ed389950202b268": {
          "model_module": "@jupyter-widgets/controls",
          "model_name": "FloatProgressModel",
          "model_module_version": "1.5.0",
          "state": {
            "_dom_classes": [],
            "_model_module": "@jupyter-widgets/controls",
            "_model_module_version": "1.5.0",
            "_model_name": "FloatProgressModel",
            "_view_count": null,
            "_view_module": "@jupyter-widgets/controls",
            "_view_module_version": "1.5.0",
            "_view_name": "ProgressView",
            "bar_style": "success",
            "description": "",
            "description_tooltip": null,
            "layout": "IPY_MODEL_2e736477a6d84c198762c2bc06433fa7",
            "max": 466062,
            "min": 0,
            "orientation": "horizontal",
            "style": "IPY_MODEL_1c73f12ef7184ad1a84bcdfe528f0877",
            "value": 466062
          }
        },
        "7f93e6df67b14a03a19394312bebdfbc": {
          "model_module": "@jupyter-widgets/controls",
          "model_name": "HTMLModel",
          "model_module_version": "1.5.0",
          "state": {
            "_dom_classes": [],
            "_model_module": "@jupyter-widgets/controls",
            "_model_module_version": "1.5.0",
            "_model_name": "HTMLModel",
            "_view_count": null,
            "_view_module": "@jupyter-widgets/controls",
            "_view_module_version": "1.5.0",
            "_view_name": "HTMLView",
            "description": "",
            "description_tooltip": null,
            "layout": "IPY_MODEL_9ed1f72c5e5242429579014f0bf850f3",
            "placeholder": "​",
            "style": "IPY_MODEL_602e398ea0ad49caa18a16142437632e",
            "value": " 466k/466k [00:00&lt;00:00, 19.8MB/s]"
          }
        },
        "8b63c81fd6e049e4a8dbb2dea3ec435d": {
          "model_module": "@jupyter-widgets/base",
          "model_name": "LayoutModel",
          "model_module_version": "1.2.0",
          "state": {
            "_model_module": "@jupyter-widgets/base",
            "_model_module_version": "1.2.0",
            "_model_name": "LayoutModel",
            "_view_count": null,
            "_view_module": "@jupyter-widgets/base",
            "_view_module_version": "1.2.0",
            "_view_name": "LayoutView",
            "align_content": null,
            "align_items": null,
            "align_self": null,
            "border": null,
            "bottom": null,
            "display": null,
            "flex": null,
            "flex_flow": null,
            "grid_area": null,
            "grid_auto_columns": null,
            "grid_auto_flow": null,
            "grid_auto_rows": null,
            "grid_column": null,
            "grid_gap": null,
            "grid_row": null,
            "grid_template_areas": null,
            "grid_template_columns": null,
            "grid_template_rows": null,
            "height": null,
            "justify_content": null,
            "justify_items": null,
            "left": null,
            "margin": null,
            "max_height": null,
            "max_width": null,
            "min_height": null,
            "min_width": null,
            "object_fit": null,
            "object_position": null,
            "order": null,
            "overflow": null,
            "overflow_x": null,
            "overflow_y": null,
            "padding": null,
            "right": null,
            "top": null,
            "visibility": null,
            "width": null
          }
        },
        "35e17fa64b844ef8ae705c55bd2a5b24": {
          "model_module": "@jupyter-widgets/base",
          "model_name": "LayoutModel",
          "model_module_version": "1.2.0",
          "state": {
            "_model_module": "@jupyter-widgets/base",
            "_model_module_version": "1.2.0",
            "_model_name": "LayoutModel",
            "_view_count": null,
            "_view_module": "@jupyter-widgets/base",
            "_view_module_version": "1.2.0",
            "_view_name": "LayoutView",
            "align_content": null,
            "align_items": null,
            "align_self": null,
            "border": null,
            "bottom": null,
            "display": null,
            "flex": null,
            "flex_flow": null,
            "grid_area": null,
            "grid_auto_columns": null,
            "grid_auto_flow": null,
            "grid_auto_rows": null,
            "grid_column": null,
            "grid_gap": null,
            "grid_row": null,
            "grid_template_areas": null,
            "grid_template_columns": null,
            "grid_template_rows": null,
            "height": null,
            "justify_content": null,
            "justify_items": null,
            "left": null,
            "margin": null,
            "max_height": null,
            "max_width": null,
            "min_height": null,
            "min_width": null,
            "object_fit": null,
            "object_position": null,
            "order": null,
            "overflow": null,
            "overflow_x": null,
            "overflow_y": null,
            "padding": null,
            "right": null,
            "top": null,
            "visibility": null,
            "width": null
          }
        },
        "6ebc9cd6998f4e90964424e67537b8d1": {
          "model_module": "@jupyter-widgets/controls",
          "model_name": "DescriptionStyleModel",
          "model_module_version": "1.5.0",
          "state": {
            "_model_module": "@jupyter-widgets/controls",
            "_model_module_version": "1.5.0",
            "_model_name": "DescriptionStyleModel",
            "_view_count": null,
            "_view_module": "@jupyter-widgets/base",
            "_view_module_version": "1.2.0",
            "_view_name": "StyleView",
            "description_width": ""
          }
        },
        "2e736477a6d84c198762c2bc06433fa7": {
          "model_module": "@jupyter-widgets/base",
          "model_name": "LayoutModel",
          "model_module_version": "1.2.0",
          "state": {
            "_model_module": "@jupyter-widgets/base",
            "_model_module_version": "1.2.0",
            "_model_name": "LayoutModel",
            "_view_count": null,
            "_view_module": "@jupyter-widgets/base",
            "_view_module_version": "1.2.0",
            "_view_name": "LayoutView",
            "align_content": null,
            "align_items": null,
            "align_self": null,
            "border": null,
            "bottom": null,
            "display": null,
            "flex": null,
            "flex_flow": null,
            "grid_area": null,
            "grid_auto_columns": null,
            "grid_auto_flow": null,
            "grid_auto_rows": null,
            "grid_column": null,
            "grid_gap": null,
            "grid_row": null,
            "grid_template_areas": null,
            "grid_template_columns": null,
            "grid_template_rows": null,
            "height": null,
            "justify_content": null,
            "justify_items": null,
            "left": null,
            "margin": null,
            "max_height": null,
            "max_width": null,
            "min_height": null,
            "min_width": null,
            "object_fit": null,
            "object_position": null,
            "order": null,
            "overflow": null,
            "overflow_x": null,
            "overflow_y": null,
            "padding": null,
            "right": null,
            "top": null,
            "visibility": null,
            "width": null
          }
        },
        "1c73f12ef7184ad1a84bcdfe528f0877": {
          "model_module": "@jupyter-widgets/controls",
          "model_name": "ProgressStyleModel",
          "model_module_version": "1.5.0",
          "state": {
            "_model_module": "@jupyter-widgets/controls",
            "_model_module_version": "1.5.0",
            "_model_name": "ProgressStyleModel",
            "_view_count": null,
            "_view_module": "@jupyter-widgets/base",
            "_view_module_version": "1.2.0",
            "_view_name": "StyleView",
            "bar_color": null,
            "description_width": ""
          }
        },
        "9ed1f72c5e5242429579014f0bf850f3": {
          "model_module": "@jupyter-widgets/base",
          "model_name": "LayoutModel",
          "model_module_version": "1.2.0",
          "state": {
            "_model_module": "@jupyter-widgets/base",
            "_model_module_version": "1.2.0",
            "_model_name": "LayoutModel",
            "_view_count": null,
            "_view_module": "@jupyter-widgets/base",
            "_view_module_version": "1.2.0",
            "_view_name": "LayoutView",
            "align_content": null,
            "align_items": null,
            "align_self": null,
            "border": null,
            "bottom": null,
            "display": null,
            "flex": null,
            "flex_flow": null,
            "grid_area": null,
            "grid_auto_columns": null,
            "grid_auto_flow": null,
            "grid_auto_rows": null,
            "grid_column": null,
            "grid_gap": null,
            "grid_row": null,
            "grid_template_areas": null,
            "grid_template_columns": null,
            "grid_template_rows": null,
            "height": null,
            "justify_content": null,
            "justify_items": null,
            "left": null,
            "margin": null,
            "max_height": null,
            "max_width": null,
            "min_height": null,
            "min_width": null,
            "object_fit": null,
            "object_position": null,
            "order": null,
            "overflow": null,
            "overflow_x": null,
            "overflow_y": null,
            "padding": null,
            "right": null,
            "top": null,
            "visibility": null,
            "width": null
          }
        },
        "602e398ea0ad49caa18a16142437632e": {
          "model_module": "@jupyter-widgets/controls",
          "model_name": "DescriptionStyleModel",
          "model_module_version": "1.5.0",
          "state": {
            "_model_module": "@jupyter-widgets/controls",
            "_model_module_version": "1.5.0",
            "_model_name": "DescriptionStyleModel",
            "_view_count": null,
            "_view_module": "@jupyter-widgets/base",
            "_view_module_version": "1.2.0",
            "_view_name": "StyleView",
            "description_width": ""
          }
        },
        "65ef6d6d8fd5453a9357bf058beac644": {
          "model_module": "@jupyter-widgets/controls",
          "model_name": "HBoxModel",
          "model_module_version": "1.5.0",
          "state": {
            "_dom_classes": [],
            "_model_module": "@jupyter-widgets/controls",
            "_model_module_version": "1.5.0",
            "_model_name": "HBoxModel",
            "_view_count": null,
            "_view_module": "@jupyter-widgets/controls",
            "_view_module_version": "1.5.0",
            "_view_name": "HBoxView",
            "box_style": "",
            "children": [
              "IPY_MODEL_72020473e4e242d28723cb82d1106e9a",
              "IPY_MODEL_b707fc1ef93f423080d0872660a11b38",
              "IPY_MODEL_eb1d4202443f4bc5ab26e422f6115250"
            ],
            "layout": "IPY_MODEL_21dd7abf672e4af7b0df50e26987e2d6"
          }
        },
        "72020473e4e242d28723cb82d1106e9a": {
          "model_module": "@jupyter-widgets/controls",
          "model_name": "HTMLModel",
          "model_module_version": "1.5.0",
          "state": {
            "_dom_classes": [],
            "_model_module": "@jupyter-widgets/controls",
            "_model_module_version": "1.5.0",
            "_model_name": "HTMLModel",
            "_view_count": null,
            "_view_module": "@jupyter-widgets/controls",
            "_view_module_version": "1.5.0",
            "_view_name": "HTMLView",
            "description": "",
            "description_tooltip": null,
            "layout": "IPY_MODEL_873516d183f5430bb55d8a1b3866ac9c",
            "placeholder": "​",
            "style": "IPY_MODEL_53aace384ba84f69b17ac6f9f9ded345",
            "value": "config.json: 100%"
          }
        },
        "b707fc1ef93f423080d0872660a11b38": {
          "model_module": "@jupyter-widgets/controls",
          "model_name": "FloatProgressModel",
          "model_module_version": "1.5.0",
          "state": {
            "_dom_classes": [],
            "_model_module": "@jupyter-widgets/controls",
            "_model_module_version": "1.5.0",
            "_model_name": "FloatProgressModel",
            "_view_count": null,
            "_view_module": "@jupyter-widgets/controls",
            "_view_module_version": "1.5.0",
            "_view_name": "ProgressView",
            "bar_style": "success",
            "description": "",
            "description_tooltip": null,
            "layout": "IPY_MODEL_e3a44608ee9b446d991e4ad30a0fae0f",
            "max": 483,
            "min": 0,
            "orientation": "horizontal",
            "style": "IPY_MODEL_fc010e53d5d14d95b4f21fce9d4e8742",
            "value": 483
          }
        },
        "eb1d4202443f4bc5ab26e422f6115250": {
          "model_module": "@jupyter-widgets/controls",
          "model_name": "HTMLModel",
          "model_module_version": "1.5.0",
          "state": {
            "_dom_classes": [],
            "_model_module": "@jupyter-widgets/controls",
            "_model_module_version": "1.5.0",
            "_model_name": "HTMLModel",
            "_view_count": null,
            "_view_module": "@jupyter-widgets/controls",
            "_view_module_version": "1.5.0",
            "_view_name": "HTMLView",
            "description": "",
            "description_tooltip": null,
            "layout": "IPY_MODEL_42593ad61d684fd59c5660148b23c0ee",
            "placeholder": "​",
            "style": "IPY_MODEL_685bc5f1a2e54a2faa51835b67258cd6",
            "value": " 483/483 [00:00&lt;00:00, 34.1kB/s]"
          }
        },
        "21dd7abf672e4af7b0df50e26987e2d6": {
          "model_module": "@jupyter-widgets/base",
          "model_name": "LayoutModel",
          "model_module_version": "1.2.0",
          "state": {
            "_model_module": "@jupyter-widgets/base",
            "_model_module_version": "1.2.0",
            "_model_name": "LayoutModel",
            "_view_count": null,
            "_view_module": "@jupyter-widgets/base",
            "_view_module_version": "1.2.0",
            "_view_name": "LayoutView",
            "align_content": null,
            "align_items": null,
            "align_self": null,
            "border": null,
            "bottom": null,
            "display": null,
            "flex": null,
            "flex_flow": null,
            "grid_area": null,
            "grid_auto_columns": null,
            "grid_auto_flow": null,
            "grid_auto_rows": null,
            "grid_column": null,
            "grid_gap": null,
            "grid_row": null,
            "grid_template_areas": null,
            "grid_template_columns": null,
            "grid_template_rows": null,
            "height": null,
            "justify_content": null,
            "justify_items": null,
            "left": null,
            "margin": null,
            "max_height": null,
            "max_width": null,
            "min_height": null,
            "min_width": null,
            "object_fit": null,
            "object_position": null,
            "order": null,
            "overflow": null,
            "overflow_x": null,
            "overflow_y": null,
            "padding": null,
            "right": null,
            "top": null,
            "visibility": null,
            "width": null
          }
        },
        "873516d183f5430bb55d8a1b3866ac9c": {
          "model_module": "@jupyter-widgets/base",
          "model_name": "LayoutModel",
          "model_module_version": "1.2.0",
          "state": {
            "_model_module": "@jupyter-widgets/base",
            "_model_module_version": "1.2.0",
            "_model_name": "LayoutModel",
            "_view_count": null,
            "_view_module": "@jupyter-widgets/base",
            "_view_module_version": "1.2.0",
            "_view_name": "LayoutView",
            "align_content": null,
            "align_items": null,
            "align_self": null,
            "border": null,
            "bottom": null,
            "display": null,
            "flex": null,
            "flex_flow": null,
            "grid_area": null,
            "grid_auto_columns": null,
            "grid_auto_flow": null,
            "grid_auto_rows": null,
            "grid_column": null,
            "grid_gap": null,
            "grid_row": null,
            "grid_template_areas": null,
            "grid_template_columns": null,
            "grid_template_rows": null,
            "height": null,
            "justify_content": null,
            "justify_items": null,
            "left": null,
            "margin": null,
            "max_height": null,
            "max_width": null,
            "min_height": null,
            "min_width": null,
            "object_fit": null,
            "object_position": null,
            "order": null,
            "overflow": null,
            "overflow_x": null,
            "overflow_y": null,
            "padding": null,
            "right": null,
            "top": null,
            "visibility": null,
            "width": null
          }
        },
        "53aace384ba84f69b17ac6f9f9ded345": {
          "model_module": "@jupyter-widgets/controls",
          "model_name": "DescriptionStyleModel",
          "model_module_version": "1.5.0",
          "state": {
            "_model_module": "@jupyter-widgets/controls",
            "_model_module_version": "1.5.0",
            "_model_name": "DescriptionStyleModel",
            "_view_count": null,
            "_view_module": "@jupyter-widgets/base",
            "_view_module_version": "1.2.0",
            "_view_name": "StyleView",
            "description_width": ""
          }
        },
        "e3a44608ee9b446d991e4ad30a0fae0f": {
          "model_module": "@jupyter-widgets/base",
          "model_name": "LayoutModel",
          "model_module_version": "1.2.0",
          "state": {
            "_model_module": "@jupyter-widgets/base",
            "_model_module_version": "1.2.0",
            "_model_name": "LayoutModel",
            "_view_count": null,
            "_view_module": "@jupyter-widgets/base",
            "_view_module_version": "1.2.0",
            "_view_name": "LayoutView",
            "align_content": null,
            "align_items": null,
            "align_self": null,
            "border": null,
            "bottom": null,
            "display": null,
            "flex": null,
            "flex_flow": null,
            "grid_area": null,
            "grid_auto_columns": null,
            "grid_auto_flow": null,
            "grid_auto_rows": null,
            "grid_column": null,
            "grid_gap": null,
            "grid_row": null,
            "grid_template_areas": null,
            "grid_template_columns": null,
            "grid_template_rows": null,
            "height": null,
            "justify_content": null,
            "justify_items": null,
            "left": null,
            "margin": null,
            "max_height": null,
            "max_width": null,
            "min_height": null,
            "min_width": null,
            "object_fit": null,
            "object_position": null,
            "order": null,
            "overflow": null,
            "overflow_x": null,
            "overflow_y": null,
            "padding": null,
            "right": null,
            "top": null,
            "visibility": null,
            "width": null
          }
        },
        "fc010e53d5d14d95b4f21fce9d4e8742": {
          "model_module": "@jupyter-widgets/controls",
          "model_name": "ProgressStyleModel",
          "model_module_version": "1.5.0",
          "state": {
            "_model_module": "@jupyter-widgets/controls",
            "_model_module_version": "1.5.0",
            "_model_name": "ProgressStyleModel",
            "_view_count": null,
            "_view_module": "@jupyter-widgets/base",
            "_view_module_version": "1.2.0",
            "_view_name": "StyleView",
            "bar_color": null,
            "description_width": ""
          }
        },
        "42593ad61d684fd59c5660148b23c0ee": {
          "model_module": "@jupyter-widgets/base",
          "model_name": "LayoutModel",
          "model_module_version": "1.2.0",
          "state": {
            "_model_module": "@jupyter-widgets/base",
            "_model_module_version": "1.2.0",
            "_model_name": "LayoutModel",
            "_view_count": null,
            "_view_module": "@jupyter-widgets/base",
            "_view_module_version": "1.2.0",
            "_view_name": "LayoutView",
            "align_content": null,
            "align_items": null,
            "align_self": null,
            "border": null,
            "bottom": null,
            "display": null,
            "flex": null,
            "flex_flow": null,
            "grid_area": null,
            "grid_auto_columns": null,
            "grid_auto_flow": null,
            "grid_auto_rows": null,
            "grid_column": null,
            "grid_gap": null,
            "grid_row": null,
            "grid_template_areas": null,
            "grid_template_columns": null,
            "grid_template_rows": null,
            "height": null,
            "justify_content": null,
            "justify_items": null,
            "left": null,
            "margin": null,
            "max_height": null,
            "max_width": null,
            "min_height": null,
            "min_width": null,
            "object_fit": null,
            "object_position": null,
            "order": null,
            "overflow": null,
            "overflow_x": null,
            "overflow_y": null,
            "padding": null,
            "right": null,
            "top": null,
            "visibility": null,
            "width": null
          }
        },
        "685bc5f1a2e54a2faa51835b67258cd6": {
          "model_module": "@jupyter-widgets/controls",
          "model_name": "DescriptionStyleModel",
          "model_module_version": "1.5.0",
          "state": {
            "_model_module": "@jupyter-widgets/controls",
            "_model_module_version": "1.5.0",
            "_model_name": "DescriptionStyleModel",
            "_view_count": null,
            "_view_module": "@jupyter-widgets/base",
            "_view_module_version": "1.2.0",
            "_view_name": "StyleView",
            "description_width": ""
          }
        },
        "c7e7969e7e2742ae8189d56507aedd13": {
          "model_module": "@jupyter-widgets/controls",
          "model_name": "HBoxModel",
          "model_module_version": "1.5.0",
          "state": {
            "_dom_classes": [],
            "_model_module": "@jupyter-widgets/controls",
            "_model_module_version": "1.5.0",
            "_model_name": "HBoxModel",
            "_view_count": null,
            "_view_module": "@jupyter-widgets/controls",
            "_view_module_version": "1.5.0",
            "_view_name": "HBoxView",
            "box_style": "",
            "children": [
              "IPY_MODEL_df8f048d6f854f27904c3c7f685b9e83",
              "IPY_MODEL_b2c3c921973a4a7f9002e90e95bf4b21",
              "IPY_MODEL_9ffb372c7651465e949cbd91b853ded6"
            ],
            "layout": "IPY_MODEL_bf6de6c50d9d4bb88a0b80ad6b045c74"
          }
        },
        "df8f048d6f854f27904c3c7f685b9e83": {
          "model_module": "@jupyter-widgets/controls",
          "model_name": "HTMLModel",
          "model_module_version": "1.5.0",
          "state": {
            "_dom_classes": [],
            "_model_module": "@jupyter-widgets/controls",
            "_model_module_version": "1.5.0",
            "_model_name": "HTMLModel",
            "_view_count": null,
            "_view_module": "@jupyter-widgets/controls",
            "_view_module_version": "1.5.0",
            "_view_name": "HTMLView",
            "description": "",
            "description_tooltip": null,
            "layout": "IPY_MODEL_ff38412c9a254bd9972a5d3666ef8ed6",
            "placeholder": "​",
            "style": "IPY_MODEL_cfa9c18922104ba18766b43e328ce2c9",
            "value": "model.safetensors: 100%"
          }
        },
        "b2c3c921973a4a7f9002e90e95bf4b21": {
          "model_module": "@jupyter-widgets/controls",
          "model_name": "FloatProgressModel",
          "model_module_version": "1.5.0",
          "state": {
            "_dom_classes": [],
            "_model_module": "@jupyter-widgets/controls",
            "_model_module_version": "1.5.0",
            "_model_name": "FloatProgressModel",
            "_view_count": null,
            "_view_module": "@jupyter-widgets/controls",
            "_view_module_version": "1.5.0",
            "_view_name": "ProgressView",
            "bar_style": "success",
            "description": "",
            "description_tooltip": null,
            "layout": "IPY_MODEL_129eb7d23b9a422293463179928ed7c3",
            "max": 267954768,
            "min": 0,
            "orientation": "horizontal",
            "style": "IPY_MODEL_e09baa5f7d944032a8d5bcdda44836bc",
            "value": 267954768
          }
        },
        "9ffb372c7651465e949cbd91b853ded6": {
          "model_module": "@jupyter-widgets/controls",
          "model_name": "HTMLModel",
          "model_module_version": "1.5.0",
          "state": {
            "_dom_classes": [],
            "_model_module": "@jupyter-widgets/controls",
            "_model_module_version": "1.5.0",
            "_model_name": "HTMLModel",
            "_view_count": null,
            "_view_module": "@jupyter-widgets/controls",
            "_view_module_version": "1.5.0",
            "_view_name": "HTMLView",
            "description": "",
            "description_tooltip": null,
            "layout": "IPY_MODEL_b002842676fe4d008c001ed46ebe4881",
            "placeholder": "​",
            "style": "IPY_MODEL_4b68dd430c754a5a97fb6d5492b4f3ac",
            "value": " 268M/268M [00:01&lt;00:00, 234MB/s]"
          }
        },
        "bf6de6c50d9d4bb88a0b80ad6b045c74": {
          "model_module": "@jupyter-widgets/base",
          "model_name": "LayoutModel",
          "model_module_version": "1.2.0",
          "state": {
            "_model_module": "@jupyter-widgets/base",
            "_model_module_version": "1.2.0",
            "_model_name": "LayoutModel",
            "_view_count": null,
            "_view_module": "@jupyter-widgets/base",
            "_view_module_version": "1.2.0",
            "_view_name": "LayoutView",
            "align_content": null,
            "align_items": null,
            "align_self": null,
            "border": null,
            "bottom": null,
            "display": null,
            "flex": null,
            "flex_flow": null,
            "grid_area": null,
            "grid_auto_columns": null,
            "grid_auto_flow": null,
            "grid_auto_rows": null,
            "grid_column": null,
            "grid_gap": null,
            "grid_row": null,
            "grid_template_areas": null,
            "grid_template_columns": null,
            "grid_template_rows": null,
            "height": null,
            "justify_content": null,
            "justify_items": null,
            "left": null,
            "margin": null,
            "max_height": null,
            "max_width": null,
            "min_height": null,
            "min_width": null,
            "object_fit": null,
            "object_position": null,
            "order": null,
            "overflow": null,
            "overflow_x": null,
            "overflow_y": null,
            "padding": null,
            "right": null,
            "top": null,
            "visibility": null,
            "width": null
          }
        },
        "ff38412c9a254bd9972a5d3666ef8ed6": {
          "model_module": "@jupyter-widgets/base",
          "model_name": "LayoutModel",
          "model_module_version": "1.2.0",
          "state": {
            "_model_module": "@jupyter-widgets/base",
            "_model_module_version": "1.2.0",
            "_model_name": "LayoutModel",
            "_view_count": null,
            "_view_module": "@jupyter-widgets/base",
            "_view_module_version": "1.2.0",
            "_view_name": "LayoutView",
            "align_content": null,
            "align_items": null,
            "align_self": null,
            "border": null,
            "bottom": null,
            "display": null,
            "flex": null,
            "flex_flow": null,
            "grid_area": null,
            "grid_auto_columns": null,
            "grid_auto_flow": null,
            "grid_auto_rows": null,
            "grid_column": null,
            "grid_gap": null,
            "grid_row": null,
            "grid_template_areas": null,
            "grid_template_columns": null,
            "grid_template_rows": null,
            "height": null,
            "justify_content": null,
            "justify_items": null,
            "left": null,
            "margin": null,
            "max_height": null,
            "max_width": null,
            "min_height": null,
            "min_width": null,
            "object_fit": null,
            "object_position": null,
            "order": null,
            "overflow": null,
            "overflow_x": null,
            "overflow_y": null,
            "padding": null,
            "right": null,
            "top": null,
            "visibility": null,
            "width": null
          }
        },
        "cfa9c18922104ba18766b43e328ce2c9": {
          "model_module": "@jupyter-widgets/controls",
          "model_name": "DescriptionStyleModel",
          "model_module_version": "1.5.0",
          "state": {
            "_model_module": "@jupyter-widgets/controls",
            "_model_module_version": "1.5.0",
            "_model_name": "DescriptionStyleModel",
            "_view_count": null,
            "_view_module": "@jupyter-widgets/base",
            "_view_module_version": "1.2.0",
            "_view_name": "StyleView",
            "description_width": ""
          }
        },
        "129eb7d23b9a422293463179928ed7c3": {
          "model_module": "@jupyter-widgets/base",
          "model_name": "LayoutModel",
          "model_module_version": "1.2.0",
          "state": {
            "_model_module": "@jupyter-widgets/base",
            "_model_module_version": "1.2.0",
            "_model_name": "LayoutModel",
            "_view_count": null,
            "_view_module": "@jupyter-widgets/base",
            "_view_module_version": "1.2.0",
            "_view_name": "LayoutView",
            "align_content": null,
            "align_items": null,
            "align_self": null,
            "border": null,
            "bottom": null,
            "display": null,
            "flex": null,
            "flex_flow": null,
            "grid_area": null,
            "grid_auto_columns": null,
            "grid_auto_flow": null,
            "grid_auto_rows": null,
            "grid_column": null,
            "grid_gap": null,
            "grid_row": null,
            "grid_template_areas": null,
            "grid_template_columns": null,
            "grid_template_rows": null,
            "height": null,
            "justify_content": null,
            "justify_items": null,
            "left": null,
            "margin": null,
            "max_height": null,
            "max_width": null,
            "min_height": null,
            "min_width": null,
            "object_fit": null,
            "object_position": null,
            "order": null,
            "overflow": null,
            "overflow_x": null,
            "overflow_y": null,
            "padding": null,
            "right": null,
            "top": null,
            "visibility": null,
            "width": null
          }
        },
        "e09baa5f7d944032a8d5bcdda44836bc": {
          "model_module": "@jupyter-widgets/controls",
          "model_name": "ProgressStyleModel",
          "model_module_version": "1.5.0",
          "state": {
            "_model_module": "@jupyter-widgets/controls",
            "_model_module_version": "1.5.0",
            "_model_name": "ProgressStyleModel",
            "_view_count": null,
            "_view_module": "@jupyter-widgets/base",
            "_view_module_version": "1.2.0",
            "_view_name": "StyleView",
            "bar_color": null,
            "description_width": ""
          }
        },
        "b002842676fe4d008c001ed46ebe4881": {
          "model_module": "@jupyter-widgets/base",
          "model_name": "LayoutModel",
          "model_module_version": "1.2.0",
          "state": {
            "_model_module": "@jupyter-widgets/base",
            "_model_module_version": "1.2.0",
            "_model_name": "LayoutModel",
            "_view_count": null,
            "_view_module": "@jupyter-widgets/base",
            "_view_module_version": "1.2.0",
            "_view_name": "LayoutView",
            "align_content": null,
            "align_items": null,
            "align_self": null,
            "border": null,
            "bottom": null,
            "display": null,
            "flex": null,
            "flex_flow": null,
            "grid_area": null,
            "grid_auto_columns": null,
            "grid_auto_flow": null,
            "grid_auto_rows": null,
            "grid_column": null,
            "grid_gap": null,
            "grid_row": null,
            "grid_template_areas": null,
            "grid_template_columns": null,
            "grid_template_rows": null,
            "height": null,
            "justify_content": null,
            "justify_items": null,
            "left": null,
            "margin": null,
            "max_height": null,
            "max_width": null,
            "min_height": null,
            "min_width": null,
            "object_fit": null,
            "object_position": null,
            "order": null,
            "overflow": null,
            "overflow_x": null,
            "overflow_y": null,
            "padding": null,
            "right": null,
            "top": null,
            "visibility": null,
            "width": null
          }
        },
        "4b68dd430c754a5a97fb6d5492b4f3ac": {
          "model_module": "@jupyter-widgets/controls",
          "model_name": "DescriptionStyleModel",
          "model_module_version": "1.5.0",
          "state": {
            "_model_module": "@jupyter-widgets/controls",
            "_model_module_version": "1.5.0",
            "_model_name": "DescriptionStyleModel",
            "_view_count": null,
            "_view_module": "@jupyter-widgets/base",
            "_view_module_version": "1.2.0",
            "_view_name": "StyleView",
            "description_width": ""
          }
        }
      }
    }
  },
  "nbformat": 4,
  "nbformat_minor": 0
}